{
 "cells": [
  {
   "cell_type": "markdown",
   "id": "1c637be2",
   "metadata": {},
   "source": [
    "# Python Homework #1 part 2"
   ]
  },
  {
   "cell_type": "markdown",
   "id": "abbb697a",
   "metadata": {},
   "source": [
    "## Corresponding Outcomes\n",
    "* __EO6:__ Simulate and interpret random events.\n",
    "* __GOPy1:__ Implement core NumPy keywords/features (e.g. axis, boolean masking, broadcasting)."
   ]
  },
  {
   "cell_type": "markdown",
   "id": "abc65db1",
   "metadata": {},
   "source": [
    "## Instructions\n",
    "In a group of 1-3 students, work on answering the following questions in a Jupyter notebook. Export the ipynb file with your solutions as a pdf, and upload it to Canvas."
   ]
  },
  {
   "cell_type": "markdown",
   "id": "e5b42d61",
   "metadata": {},
   "source": [
    "## Group Information\n",
    " - Group Member 1:\n",
    " - Group Member 2:\n",
    " - Group Member 3:"
   ]
  },
  {
   "cell_type": "markdown",
   "id": "1bdd0b2c",
   "metadata": {},
   "source": [
    "## Question 1 - A random walk and timings"
   ]
  },
  {
   "cell_type": "markdown",
   "id": "3217c3fa",
   "metadata": {},
   "source": [
    "* Instantiate a random number generator in NumPy and assign it the variable name `rng`."
   ]
  },
  {
   "cell_type": "code",
   "execution_count": null,
   "id": "b93a30fc-e7cb-4b90-b167-c58a0e690113",
   "metadata": {},
   "outputs": [],
   "source": []
  },
  {
   "cell_type": "markdown",
   "id": "c0da8efd",
   "metadata": {},
   "source": [
    "* Using the `choice` method of `rng`, make a length-20 NumPy array of randomly chosen 1s and -1s, with 1 and -1 equally likely.  (Be sure you're not using any loops in this.  Instead use the `size` keyword argument of `choice`.)  Name the resulting array `x`."
   ]
  },
  {
   "cell_type": "code",
   "execution_count": null,
   "id": "95bc0e3c-a29e-437f-92ca-9f3444e2dc95",
   "metadata": {},
   "outputs": [],
   "source": []
  },
  {
   "cell_type": "markdown",
   "id": "b689c05d",
   "metadata": {},
   "source": [
    "* Compute the cumulative sum of the elements in `x` using NumPy's `cumsum` function.  Name the result `y`. print `x` and `y` in the cell below."
   ]
  },
  {
   "cell_type": "code",
   "execution_count": null,
   "id": "aa809502-28ad-45f9-9b61-cc82d6c09c7e",
   "metadata": {},
   "outputs": [],
   "source": []
  },
  {
   "cell_type": "markdown",
   "id": "a6a9e60a-f7ff-4126-adc3-f7055d57b93d",
   "metadata": {},
   "source": [
    "How do the values of `x` and `y` relate to each other? What is the pattern? Furthermore, if `y` was considered to be a random walk, how does `x` relate to `y`? "
   ]
  },
  {
   "cell_type": "markdown",
   "id": "3ca58084-3fb5-415d-8b42-ad3f50099f9c",
   "metadata": {},
   "source": [
    "_Write your explanation here:_"
   ]
  },
  {
   "cell_type": "markdown",
   "id": "41b4039b",
   "metadata": {},
   "source": [
    "* Make a length ten million NumPy array with randomly chosen 1s and -1s.  Again name the result `x`.\n",
    "* What proportion of the values in `x` are 1? Compute this using a for loop and an if statement.  (If your answer isn't close to 0.5, then check your code for mistakes.)\n",
    "* What proportion of the values in `x` are 1?  Compute this using a Boolean array, `count_nonzero` and dividing.\n",
    "* What proportion of the values in `x` are 1?  Compute this using `mean`.\n",
    "* (Make sure your answers to the above 3 questions are the same.)\n",
    "* How do these computations compare in terms of speed?  Answer using `%%timeit`."
   ]
  },
  {
   "cell_type": "code",
   "execution_count": null,
   "id": "f7d23821-5764-43ab-b330-42f575fd2a79",
   "metadata": {},
   "outputs": [],
   "source": []
  },
  {
   "cell_type": "markdown",
   "id": "89439d56-da3e-4204-bc8d-07ab9f0407d0",
   "metadata": {},
   "source": [
    "## Question 2 - A weighted random walk"
   ]
  },
  {
   "cell_type": "markdown",
   "id": "ae3fdbe9",
   "metadata": {},
   "source": [
    "* Check the documentation for the `choice` method of `rng`.  Notice that there is an argument for assigning weights to the different options.\n",
    "* Make a length ten million NumPy array `z` of 1s and -1s, where -1 is chosen 50.1% of the time, and where 1 is chosen 49.9% of the time.\n",
    "* Check what proportion of the elements in `z` are equal to 1.  The number should be very close to 0.499 (definitely closer to 0.499 than to 0.5)."
   ]
  },
  {
   "cell_type": "code",
   "execution_count": null,
   "id": "31b73d8c-0826-4907-a26b-95ad6977f46b",
   "metadata": {},
   "outputs": [],
   "source": []
  },
  {
   "cell_type": "markdown",
   "id": "7f758630",
   "metadata": {},
   "source": [
    "* Make the corresponding length 10 million weighted random walk corresponding to `z`.  Save the resulting NumPy array with the variable name `w`."
   ]
  },
  {
   "cell_type": "code",
   "execution_count": null,
   "id": "8847a39d-ff05-41d0-855e-aeb63cacad4c",
   "metadata": {},
   "outputs": [],
   "source": []
  },
  {
   "cell_type": "markdown",
   "id": "2154fe0d",
   "metadata": {},
   "source": [
    "* What proportion of elements in `w` do you expect to be positive?  Compute this proportion.  Did it match your expectation?\n",
    "* What is the maximum value in `w`?  What is the minimum value in `w`?\n",
    "* What are the first 50 indices at which `w` has absolute value greater than 100?  Use NumPy's `nonzero` function to find this, together with two Boolean arrays and NumPy's version of or (which is not `or`), by checking where `w` is greater than 100 or is less than -100.  Store these indices with the variable name `m`.  (Remember that `nonzero` returns a tuple.)\n",
    "* What was the value of `w` at these indices?  (This should be as easy evaluating `w[m]`.)"
   ]
  },
  {
   "cell_type": "code",
   "execution_count": null,
   "id": "1a686aec-d9b7-4ed0-93e5-db506cd0511e",
   "metadata": {},
   "outputs": [],
   "source": []
  },
  {
   "cell_type": "markdown",
   "id": "e0330580",
   "metadata": {},
   "source": [
    "* Again using `nonzero`, find all the indices where `w` is positive.  (If `w` is never positive, then re-compute `w` and `z` to get new random values.)  Name the array of these indices `inds`.\n",
    "* Let `mpi` (for maximum positive index) be the maximum index where `w` is positive.\n",
    "* Print `mpi`.\n",
    "* What proportion of the way into the walk does the value of `w` become negative and never switch back?"
   ]
  },
  {
   "cell_type": "code",
   "execution_count": null,
   "id": "8652a9f5-aca3-4da9-b6c9-3dba0ab79309",
   "metadata": {},
   "outputs": [],
   "source": []
  }
 ],
 "metadata": {
  "kernelspec": {
   "display_name": "Python 3 (ipykernel)",
   "language": "python",
   "name": "python3"
  },
  "language_info": {
   "codemirror_mode": {
    "name": "ipython",
    "version": 3
   },
   "file_extension": ".py",
   "mimetype": "text/x-python",
   "name": "python",
   "nbconvert_exporter": "python",
   "pygments_lexer": "ipython3",
   "version": "3.12.7"
  }
 },
 "nbformat": 4,
 "nbformat_minor": 5
}