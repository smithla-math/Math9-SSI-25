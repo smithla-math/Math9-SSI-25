{
 "cells": [
  {
   "cell_type": "markdown",
   "id": "f204aaa8",
   "metadata": {},
   "source": [
    "# Python Homework #1"
   ]
  },
  {
   "cell_type": "markdown",
   "id": "330f3c0d",
   "metadata": {},
   "source": [
    "## Corresponding Outcomes\n",
    " - __EO2:__ Examine and contrast various common data structures.\n",
    " - __GOPy2:__ Compare and contrast Python-specific data structures (e.g. dictionaries, lists).\n",
    " -  __EO6:__ Simulate and interpret random events.\n",
    " - __GOPy1:__ Implement core NumPy keywords/features (e.g. axis, boolean masking, broadcasting)."
   ]
  },
  {
   "cell_type": "markdown",
   "id": "527025ef",
   "metadata": {},
   "source": [
    "## Instructions\n",
    "In a group of 1-3 students, work on answering the following questions in a Jupyter notebook. Export the ipynb file with your solutions as a pdf, and upload it to Canvas."
   ]
  },
  {
   "cell_type": "markdown",
   "id": "43119ed7",
   "metadata": {},
   "source": [
    "## Group Information\n",
    " - Group Member 1:\n",
    " - Group Member 2:\n",
    " - Group Member 3:"
   ]
  },
  {
   "cell_type": "markdown",
   "id": "9e5c0cdb",
   "metadata": {},
   "source": [
    "## Question 1 - Division and Int\n",
    "\n",
    "Evaluate 3.3 divided by 1.1, and in the same line, convert the result to an integer (using `int`).  What is strange about the result?  Can you figure out why that happened?  What would you say is a lesson you can take away from this example?  (Answer these short answer questions in a markdown cell.)"
   ]
  },
  {
   "cell_type": "code",
   "execution_count": 5,
   "id": "fa339b7c-e33f-4e9d-b224-678f3071bf54",
   "metadata": {},
   "outputs": [],
   "source": [
    "#Write your code in this cell"
   ]
  },
  {
   "cell_type": "markdown",
   "id": "5824b4cc-8470-4ce7-b651-585202faaada",
   "metadata": {},
   "source": [
    "_Add your explanation Question 1 to this Markdown cell:_ \n"
   ]
  },
  {
   "cell_type": "markdown",
   "id": "be0539ca",
   "metadata": {},
   "source": [
    "## Question 2 - Adding Data Types"
   ]
  },
  {
   "cell_type": "markdown",
   "id": "c32a6668",
   "metadata": {},
   "source": [
    "For each of the following data types, define `x` and `y` to be two objects of that data type, and try to combine them together using `+`. If they can be combined using `+`, try to explain what `x+y` represents in a markdown cell.  The first data type, `int`, has been done for you."
   ]
  },
  {
   "cell_type": "markdown",
   "id": "53b1d971",
   "metadata": {},
   "source": [
    "* `int`"
   ]
  },
  {
   "cell_type": "code",
   "execution_count": 1,
   "id": "666630b0",
   "metadata": {},
   "outputs": [],
   "source": [
    "x = 5\n",
    "y = 3"
   ]
  },
  {
   "cell_type": "code",
   "execution_count": 2,
   "id": "18ddbdab",
   "metadata": {},
   "outputs": [
    {
     "data": {
      "text/plain": [
       "int"
      ]
     },
     "execution_count": 2,
     "metadata": {},
     "output_type": "execute_result"
    }
   ],
   "source": [
    "type(x)"
   ]
  },
  {
   "cell_type": "code",
   "execution_count": 3,
   "id": "09826d63",
   "metadata": {},
   "outputs": [
    {
     "data": {
      "text/plain": [
       "8"
      ]
     },
     "execution_count": 3,
     "metadata": {},
     "output_type": "execute_result"
    }
   ],
   "source": [
    "x+y"
   ]
  },
  {
   "cell_type": "markdown",
   "id": "9ee10418",
   "metadata": {},
   "source": [
    "**Explanation:**  In the case that `x` and `y` are integers, `x+y` represents ordinary addition of integers."
   ]
  },
  {
   "cell_type": "markdown",
   "id": "c0dbbad5",
   "metadata": {},
   "source": [
    "* `float`"
   ]
  },
  {
   "cell_type": "code",
   "execution_count": null,
   "id": "4b4532d4-6ce0-4470-9e2a-ed20b1eef414",
   "metadata": {},
   "outputs": [],
   "source": []
  },
  {
   "cell_type": "markdown",
   "id": "58af40c9-b3cf-44d1-876d-2de4ef86272b",
   "metadata": {},
   "source": [
    "__Explanation:__"
   ]
  },
  {
   "cell_type": "markdown",
   "id": "8bee791a",
   "metadata": {},
   "source": [
    "* `bool`"
   ]
  },
  {
   "cell_type": "code",
   "execution_count": null,
   "id": "681cde78-7230-496b-bab5-ce0d5b704b0f",
   "metadata": {},
   "outputs": [],
   "source": []
  },
  {
   "cell_type": "markdown",
   "id": "b3f2e019-85d6-4e71-b2d9-dc74e733fabb",
   "metadata": {},
   "source": [
    "__Explanation:__"
   ]
  },
  {
   "cell_type": "markdown",
   "id": "b1a3e108",
   "metadata": {},
   "source": [
    "* `set`"
   ]
  },
  {
   "cell_type": "code",
   "execution_count": null,
   "id": "0a3ebe5f-cccb-4307-a8e5-d7b12ece49ac",
   "metadata": {},
   "outputs": [],
   "source": []
  },
  {
   "cell_type": "markdown",
   "id": "51673a2a-fade-4492-b1e7-15b637bb8978",
   "metadata": {},
   "source": [
    "__Explanation:__"
   ]
  },
  {
   "cell_type": "markdown",
   "id": "7cc8b811",
   "metadata": {},
   "source": [
    "* `tuple`"
   ]
  },
  {
   "cell_type": "code",
   "execution_count": null,
   "id": "aa501282-7000-4118-a9c7-1732aa2c5e0d",
   "metadata": {},
   "outputs": [],
   "source": []
  },
  {
   "cell_type": "markdown",
   "id": "8bab94ee-bc40-45f7-b178-eb023ffe4562",
   "metadata": {},
   "source": [
    "__Explanation:__"
   ]
  },
  {
   "cell_type": "markdown",
   "id": "fe3f90d0",
   "metadata": {},
   "source": [
    "* `list`"
   ]
  },
  {
   "cell_type": "code",
   "execution_count": null,
   "id": "957bb8ba-c716-46d6-a361-95186ff04d34",
   "metadata": {},
   "outputs": [],
   "source": []
  },
  {
   "cell_type": "markdown",
   "id": "0ffc5c4e-5022-4b9e-9dbe-eea1100ec104",
   "metadata": {},
   "source": [
    "__Explanation:__"
   ]
  },
  {
   "cell_type": "markdown",
   "id": "ae6b9720",
   "metadata": {},
   "source": [
    "* `str`"
   ]
  },
  {
   "cell_type": "code",
   "execution_count": null,
   "id": "2f18bf7a-f0a4-4ad0-b5af-af1b0df40a2d",
   "metadata": {},
   "outputs": [],
   "source": []
  },
  {
   "cell_type": "markdown",
   "id": "f55c8002-16da-4b3d-b4d3-1d9d25ca0c8c",
   "metadata": {},
   "source": [
    "__Explanation:__"
   ]
  },
  {
   "cell_type": "markdown",
   "id": "3ecb2053",
   "metadata": {},
   "source": [
    "* `range`"
   ]
  },
  {
   "cell_type": "code",
   "execution_count": null,
   "id": "93b2d0ee-b0ec-40fc-a63d-29929e70213d",
   "metadata": {},
   "outputs": [],
   "source": []
  },
  {
   "cell_type": "markdown",
   "id": "36fb09f2-fd93-4e8a-ba48-5def943aabd7",
   "metadata": {},
   "source": [
    "__Explanation:__"
   ]
  },
  {
   "cell_type": "markdown",
   "id": "a80d7b63",
   "metadata": {},
   "source": [
    "* `dict`"
   ]
  },
  {
   "cell_type": "code",
   "execution_count": null,
   "id": "a38b282f-ecf2-433a-ab24-4035bbd2ef47",
   "metadata": {},
   "outputs": [],
   "source": []
  },
  {
   "cell_type": "markdown",
   "id": "3ee2c408-1319-403d-9397-5e70a2318c0a",
   "metadata": {},
   "source": [
    "__Explanation:__"
   ]
  },
  {
   "cell_type": "markdown",
   "id": "fa36c9f4",
   "metadata": {},
   "source": [
    "## Question 3 - Convert to String"
   ]
  },
  {
   "cell_type": "markdown",
   "id": "5d60e4a1",
   "metadata": {},
   "source": [
    "The usual way to convert to a string is by using `str`.  For example, try to convert the integers 123 and -10 to strings using `str`.  (Be sure your inputs to the `str` functions are integers and not themselves strings.)"
   ]
  },
  {
   "cell_type": "markdown",
   "id": "e40a95ca",
   "metadata": {},
   "source": [
    "There are also some special built-in functions in Python that can be used to convert from an integer to a string, such as `bin`, `format`, and `chr`.  Each one has its own purpose. "
   ]
  },
  {
   "cell_type": "markdown",
   "id": "46a50458",
   "metadata": {},
   "source": [
    "- Try converting those same integers, 123 and -10, into strings using the function `bin`.  Explain briefly the result.  (Use `help(bin)` to get information about this function.)"
   ]
  },
  {
   "cell_type": "code",
   "execution_count": null,
   "id": "45d3a9f2-aa33-428f-ba4e-e52940d603e3",
   "metadata": {},
   "outputs": [],
   "source": []
  },
  {
   "cell_type": "markdown",
   "id": "4f18c8b0-8323-446c-8639-54105923c253",
   "metadata": {},
   "source": [
    "_Write your explanation in this Markdown cell:_"
   ]
  },
  {
   "cell_type": "markdown",
   "id": "a7efe63c",
   "metadata": {},
   "source": [
    "- Try the same thing using `format(n,\"b\")` and `format(n, \"08b\")`, where you replace `n` is these same values, 123 and -10.  The \"08\" portion indicates that the length should be exactly 8, possibly with leading 0s."
   ]
  },
  {
   "cell_type": "code",
   "execution_count": null,
   "id": "e08b68d5-8f90-42cb-a9a4-42332b5c073d",
   "metadata": {},
   "outputs": [],
   "source": []
  },
  {
   "cell_type": "markdown",
   "id": "829465c8",
   "metadata": {},
   "source": [
    "- Try converting those same integers, 123 and -10, into strings using `chr`.  (Hint.  One of the two will raise a `ValueError`.)"
   ]
  },
  {
   "cell_type": "code",
   "execution_count": null,
   "id": "4484e820-a348-4027-bc15-2f22e1426508",
   "metadata": {},
   "outputs": [],
   "source": []
  },
  {
   "cell_type": "markdown",
   "id": "ebbcab66",
   "metadata": {},
   "source": [
    "- Can you figure out what is the maximum integer `n` for which `chr(n)` is defined?  The weird number in the error message is written neither in the usual decimal notation, nor in binary notation. (Hint: you can use the `try` and `except` commands in order to run code after the error occurs). "
   ]
  },
  {
   "cell_type": "code",
   "execution_count": null,
   "id": "9e191a60-bf0b-4d91-936c-5f6e47bcbc11",
   "metadata": {},
   "outputs": [],
   "source": []
  },
  {
   "cell_type": "markdown",
   "id": "b9cd277d",
   "metadata": {},
   "source": [
    "## Question 4 - Character Printing"
   ]
  },
  {
   "cell_type": "markdown",
   "id": "0184de37",
   "metadata": {},
   "source": [
    "Define `n=100`.  In that case, `chr(n)` will be the letter `d`.  Check this."
   ]
  },
  {
   "cell_type": "markdown",
   "id": "aad2e076",
   "metadata": {},
   "source": [
    "- Print `n` and `chr(n)` on the same line by manipulating strings and combining them using `+` (as similar to an earlier question). The final result of what you `print` should look like \"100: d\""
   ]
  },
  {
   "cell_type": "code",
   "execution_count": null,
   "id": "227b40e9-a5ed-4d23-b423-f4c8ec49e70d",
   "metadata": {},
   "outputs": [],
   "source": []
  },
  {
   "cell_type": "markdown",
   "id": "ecd80791",
   "metadata": {},
   "source": [
    "For each integer `i` from 0 (inclusive) to 255 (inclusive), print `i` and `chr(i)` on the same line, as you just did for `n=100`.  Use a `for` loop.  (Don't worry if 0 through 32 look blank.  That is correct; they all represent whitespace, I believe.  For example, newline `\"\\n\"` corresponds to 10; can you recognize that in the for loop?)"
   ]
  },
  {
   "cell_type": "code",
   "execution_count": null,
   "id": "55215fd3-5b78-476a-961a-4760fcb5833e",
   "metadata": {},
   "outputs": [],
   "source": []
  },
  {
   "cell_type": "markdown",
   "id": "1bdd0b2c",
   "metadata": {},
   "source": [
    "## Question 5 - A random walk and timings"
   ]
  },
  {
   "cell_type": "markdown",
   "id": "3217c3fa",
   "metadata": {},
   "source": [
    "* Instantiate a random number generator in NumPy and assign it the variable name `rng`."
   ]
  },
  {
   "cell_type": "code",
   "execution_count": null,
   "id": "b93a30fc-e7cb-4b90-b167-c58a0e690113",
   "metadata": {},
   "outputs": [],
   "source": []
  },
  {
   "cell_type": "markdown",
   "id": "c0da8efd",
   "metadata": {},
   "source": [
    "* Using the `choice` method of `rng`, make a length-20 NumPy array of randomly chosen 1s and -1s, with 1 and -1 equally likely.  (Be sure you're not using any loops in this.  Instead use the `size` keyword argument of `choice`.)  Name the resulting array `x`."
   ]
  },
  {
   "cell_type": "code",
   "execution_count": null,
   "id": "95bc0e3c-a29e-437f-92ca-9f3444e2dc95",
   "metadata": {},
   "outputs": [],
   "source": []
  },
  {
   "cell_type": "markdown",
   "id": "b689c05d",
   "metadata": {},
   "source": [
    "* Compute the cumulative sum of the elements in `x` using NumPy's `cumsum` function.  Name the result `y`. print `x` and `y` in the cell below."
   ]
  },
  {
   "cell_type": "code",
   "execution_count": null,
   "id": "aa809502-28ad-45f9-9b61-cc82d6c09c7e",
   "metadata": {},
   "outputs": [],
   "source": []
  },
  {
   "cell_type": "markdown",
   "id": "a6a9e60a-f7ff-4126-adc3-f7055d57b93d",
   "metadata": {},
   "source": [
    "How do the values of `x` and `y` relate to each other? What is the pattern? Furthermore, if `y` was considered to be a random walk, how does `x` relate to `y`? "
   ]
  },
  {
   "cell_type": "markdown",
   "id": "3ca58084-3fb5-415d-8b42-ad3f50099f9c",
   "metadata": {},
   "source": [
    "_Write your explanation here:_"
   ]
  },
  {
   "cell_type": "markdown",
   "id": "41b4039b",
   "metadata": {},
   "source": [
    "* Make a length ten million NumPy array with randomly chosen 1s and -1s.  Again name the result `x`.\n",
    "* What proportion of the values in `x` are 1? Compute this using a for loop and an if statement.  (If your answer isn't close to 0.5, then check your code for mistakes.)\n",
    "* What proportion of the values in `x` are 1?  Compute this using a Boolean array, `count_nonzero` and dividing.\n",
    "* What proportion of the values in `x` are 1?  Compute this using `mean`.\n",
    "* (Make sure your answers to the above 3 questions are the same.)\n",
    "* How do these computations compare in terms of speed?  Answer using `%%timeit`."
   ]
  },
  {
   "cell_type": "code",
   "execution_count": null,
   "id": "f7d23821-5764-43ab-b330-42f575fd2a79",
   "metadata": {},
   "outputs": [],
   "source": []
  },
  {
   "cell_type": "markdown",
   "id": "89439d56-da3e-4204-bc8d-07ab9f0407d0",
   "metadata": {},
   "source": [
    "## Question 6 - A weighted random walk"
   ]
  },
  {
   "cell_type": "markdown",
   "id": "ae3fdbe9",
   "metadata": {},
   "source": [
    "* Check the documentation for the `choice` method of `rng`.  Notice that there is an argument for assigning weights to the different options.\n",
    "* Make a length ten million NumPy array `z` of 1s and -1s, where -1 is chosen 50.1% of the time, and where 1 is chosen 49.9% of the time.\n",
    "* Check what proportion of the elements in `z` are equal to 1.  The number should be very close to 0.499 (definitely closer to 0.499 than to 0.5)."
   ]
  },
  {
   "cell_type": "code",
   "execution_count": null,
   "id": "31b73d8c-0826-4907-a26b-95ad6977f46b",
   "metadata": {},
   "outputs": [],
   "source": []
  },
  {
   "cell_type": "markdown",
   "id": "7f758630",
   "metadata": {},
   "source": [
    "* Make the corresponding length 10 million weighted random walk corresponding to `z`.  Save the resulting NumPy array with the variable name `w`."
   ]
  },
  {
   "cell_type": "code",
   "execution_count": null,
   "id": "8847a39d-ff05-41d0-855e-aeb63cacad4c",
   "metadata": {},
   "outputs": [],
   "source": []
  },
  {
   "cell_type": "markdown",
   "id": "2154fe0d",
   "metadata": {},
   "source": [
    "* What proportion of elements in `w` do you expect to be positive?  Compute this proportion.  Did it match your expectation?\n",
    "* What is the maximum value in `w`?  What is the minimum value in `w`?\n",
    "* What are the first 50 indices at which `w` has absolute value greater than 100?  Use NumPy's `nonzero` function to find this, together with two Boolean arrays and NumPy's version of or (which is not `or`), by checking where `w` is greater than 100 or is less than -100.  Store these indices with the variable name `m`.  (Remember that `nonzero` returns a tuple.)\n",
    "* What was the value of `w` at these indices?  (This should be as easy evaluating `w[m]`.)"
   ]
  },
  {
   "cell_type": "code",
   "execution_count": null,
   "id": "1a686aec-d9b7-4ed0-93e5-db506cd0511e",
   "metadata": {},
   "outputs": [],
   "source": []
  },
  {
   "cell_type": "markdown",
   "id": "e0330580",
   "metadata": {},
   "source": [
    "* Again using `nonzero`, find all the indices where `w` is positive.  (If `w` is never positive, then re-compute `w` and `z` to get new random values.)  Name the array of these indices `inds`.\n",
    "* Let `mpi` (for maximum positive index) be the maximum index where `w` is positive.\n",
    "* Print `mpi`.\n",
    "* What proportion of the way into the walk does the value of `w` become negative and never switch back?"
   ]
  },
  {
   "cell_type": "code",
   "execution_count": null,
   "id": "8652a9f5-aca3-4da9-b6c9-3dba0ab79309",
   "metadata": {},
   "outputs": [],
   "source": []
  }
 ],
 "metadata": {
  "kernelspec": {
   "display_name": "Python 3 (ipykernel)",
   "language": "python",
   "name": "python3"
  },
  "language_info": {
   "codemirror_mode": {
    "name": "ipython",
    "version": 3
   },
   "file_extension": ".py",
   "mimetype": "text/x-python",
   "name": "python",
   "nbconvert_exporter": "python",
   "pygments_lexer": "ipython3",
   "version": "3.12.7"
  }
 },
 "nbformat": 4,
 "nbformat_minor": 5
}