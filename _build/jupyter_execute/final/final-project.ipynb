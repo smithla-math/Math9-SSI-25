{
 "cells": [
  {
   "cell_type": "markdown",
   "id": "49323ff8",
   "metadata": {},
   "source": [
    "# Final Project Instructions\n",
    "\n",
    "Working in a group of 1-3 students, investigate __exactly one__ of the topics below. Be sure to include everyone's names in your files. Only one person in your group needs to turn in the project on our Canvas page (and this actually helps streamline grading).\n",
    "\n",
    "You may use Matlab or Python, but most online resources are written in terms of Python. Translating these back to Matlab will require extra work.\n",
    "\n",
    "Turn in pdf exports of your code, as well as all of the source code files themselves. You are able to turn in more than one file through Canvas."
   ]
  },
  {
   "cell_type": "markdown",
   "id": "7f971416",
   "metadata": {},
   "source": [
    "## Pick exactly one of the following topics below\n",
    "- [Math Challenge Problems from Project Euler](./Project_Euler.ipynb)\n",
    "- [Algorithmic Art](./Algorithmic_Art.ipynb)\n",
    "- [Data Science and Data Analysis](./Data_Science.ipynb)\n",
    "\n",
    "_Reach out to Professor Smith if you have different ideas for your topic._ For instance, a student in Fall 2024 coded simulations for casino games."
   ]
  },
  {
   "cell_type": "markdown",
   "id": "30abd196",
   "metadata": {
    "jp-MarkdownHeadingCollapsed": true
   },
   "source": [
    "## Grading Policy (20 points total for the project)\n",
    "### Citations\n",
    "You are allowed to use code from other sources (though it is not a requirement to use code from other sources). If you do so, you must adhere to all of the following guidelines below or risk receiving a __zero__ on your project.\n",
    "\n",
    "- It is essential to cite the original source of any code, for example by including the url of the website.\n",
    "- If your project is inspired by something in particular, please also give credit to the original source, even if that original source has nothing to do with Python or Matlab. This also includes textbooks, news articles, or anything used for reference.\n",
    "- Show which sections of code depend on which references. You can  make citations next to the relevant code. A bibliography at the end is optional, but helpful.\n",
    "- If you use AI as a source, please cite which specific site or program you received AI assistance from. Be specific about the name, such as whether it is ChatGPT, Anaconda Assitant, or etc. You must also provide a transcript of your conversation by specifically taking screenshots of your conversation, and submitting those along with your project.\n",
    "- Please err on the side of referencing everything. You should reference both blocks of code that you take from somewhere else, and you should also reference ideas for your analysis if they come from a specific source.\n",
    "- If something substantial is included in the project without attribution, this would be reported as an academic integrity violation.\n",
    "  \n",
    "### Content and Code (15 points out of 20)\n",
    "The following can give you ideas for the type of work\n",
    "\n",
    "- There is no specific length requirement for the assignment. As a rough estimate, you should spend approximately 20 productive hours per group member working on this project. The more comfortable you are coding, the less time you should need to produce something interesting.\n",
    "- Does the project use Matlab or Python in an essential way? The more specific features of your language you use, the better.\n",
    "- Does the project include interesting figures or plots? (This applies more to the topics of Data Science or Algorithmic Art).\n",
    "- Does the project include material that was not covered in Math 9? This is not a requirement, but learning new features that you find interesting and applying them to your project would be a very good use of your time. If you use techniques we didn’t cover in class, we will take that into account when assigning a project grade.\n",
    "- If the project uses code from another source, were changes made to the source code that indicate you understood some portions of the code? Tell us directly what changes you made, or what difficulties you had in working with the code. A lot of code written by experts can be very difficult to understand, so even understanding and adjusting a small piece of code can be a significant accomplishment.\n",
    "\n",
    "### Organization (5 pts out of 20)\n",
    "These points will be determined by the overall quality and clarity of your report in .ipynb or .m form. \n",
    "\n",
    "- A practical tip is to imagine that you’re writing a thesis instead of a report – therefore you need sections and subsections at different levels, or abstract/conclusion/transition paragraphs.\n",
    "\n",
    "- Try to write your descriptions and codes (including document strings and comments) in a well-organized and logical way.\n",
    "\n",
    "- Write your descriptions as if your audience is another member of your class. If something you used was not covered in class, please describe it in a way that would help your classmates understand.\n",
    "\n",
    "- Generate high-quality figures whenever applicable.\n",
    "\n",
    "- __Please cite all of your sources, as mentioned above!__\n",
    "\n",
    "There is no guarantee that you will get all 5 points by only submitting correct code. It’s totally possible to receive 0 points in organization, if your code has no explanations.\n",
    "\n",
    "### Bonus Point (+1pt to project grade)\n",
    "\n",
    "For an exceptional report that displays novelty and insights at the research level, 1 additional point will be added directly to the final project grade. This goes beyond organizing your report, and is a reward for truly novel results.\n",
    "\n",
    "The expectation for the bonus point is VERY high -- applying existing work written by other people (whether we have learned it or not) is not enough. Do not worry about this bonus point until you are fully finished and confident in the rest of your work. "
   ]
  },
  {
   "cell_type": "markdown",
   "id": "e6411be7",
   "metadata": {},
   "source": [
    "## Tips and Suggestions\n",
    "\n",
    "- Choose a topic you’re interested in. If you want to go beyond what is suggested, please contact me for approval/consulting.\n",
    "- Keep your goals realistic. Starting work on something is much more important than getting stuck on too ambitious of a project.\n",
    "- Make sure that most of your time spent on the project is related to using Matlab or Python in an interesting way.\n",
    "    - Example in data science: if you pull a large amount of data, and the dataset is formatted wrong, fixing it by hand would not be a good\n",
    "use of your time and would not be factored into the project grade. On the other hand, if you can clean data with your coding, that would be a good use of your time.\n",
    "    - Another data science example: If you spend a lot of time taking an online spreadsheet and typing it line-by-line into Matlab or Python, this is not a good use of your time. The force of will required for by-hand data entry is admirable, but ultimately does not convey your skill in coding. If you can import a spreadsheet into your programming language with one or two lines of code, this is much better.\n",
    "- Every 30 minutes spent on the project, stop and ask yourself what you’ve accomplished. Be ready to give up on an idea if it’s proving to be too difficult. It’s often more efficient to learn what’s possible in a programming language, and then build your idea around that, rather than to come up with an idea and hope it’s possible to code.\n",
    "- It’s totally fine to have your project divided into somewhat unrelated sections. A course project in a history class or a literature class might need to be one big coherent idea, but that’s not at all necessary for this project.\n",
    "    - For example, maybe you’ve finished your main idea but think you need to add more. Go ahead and add something completely different."
   ]
  }
 ],
 "metadata": {
  "kernelspec": {
   "display_name": "Python 3 (ipykernel)",
   "language": "python",
   "name": "python3"
  },
  "language_info": {
   "codemirror_mode": {
    "name": "ipython",
    "version": 3
   },
   "file_extension": ".py",
   "mimetype": "text/x-python",
   "name": "python",
   "nbconvert_exporter": "python",
   "pygments_lexer": "ipython3",
   "version": "3.12.7"
  }
 },
 "nbformat": 4,
 "nbformat_minor": 5
}