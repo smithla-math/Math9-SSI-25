{
 "cells": [
  {
   "cell_type": "markdown",
   "id": "e47ca8fd-75d8-41a7-b43b-d616f583b6df",
   "metadata": {},
   "source": [
    "# Final Project Option: Project Euler"
   ]
  },
  {
   "cell_type": "markdown",
   "id": "b4c5c3ae-f77e-411c-8679-c6b0fa282dcc",
   "metadata": {},
   "source": [
    "The site <a href=\"https://projecteuler.net/\">Project Euler</a> contains many challenge problems ranging from simple to highly challenging. Some problems rely on programming methods, some rely on theoretical mathematics, and some can be solved by either. Their archives contain over 920 problems."
   ]
  },
  {
   "cell_type": "markdown",
   "id": "ccc47591-b154-4fab-88a0-46a5ecee518d",
   "metadata": {},
   "source": [
    "## Goal of this Topic\n",
    "\n",
    "Pick a handful of problems and solve them. The more difficult the problems, the less you'll have to do. Give the problem number, the solution strategy for each, and an explanation for the code used. __Please cite any references you use, including site URLs. If you use AI for part of your code, please include the transcript of your conversation in your work.__"
   ]
  },
  {
   "cell_type": "markdown",
   "id": "6a5703af-db49-434e-8321-8bed61e3e05d",
   "metadata": {},
   "source": [
    "### Number of Problems you should complete\n",
    "- If you are working by yourself:\n",
    "    - One suggested way to solve enough problems: Solve 2 problems, #30 or higher, then solve 2 problems #50 or higher, and solve 2 problems, #100 or higher.\n",
    "    - Another way to solve enough problems: Solve 3 problems, #100 or higher.\n",
    "    - A challenging way to solve enough problems: Solve 1 problem, #800 or higher.\n",
    "- If you are working in a group of size 2:\n",
    "    -One suggested way to solve enough problems: Solve 2 problems, #30 or higher, then solve 3 problems #50 or higher, and solve 3 problems, #100 or higher.\n",
    "    - Another way to solve enough problems: Solve 5 problems, #100 or higher.\n",
    "    - A challenging way to solve enough problems: Solve 1 problem, #200 or higher. And solve 1 problem, numbered #800 or higher.\n",
    "- If you are working in a group of size 3:\n",
    "    - One suggested way to solve enough problems: Solve 3 problems, #30 or higher, then solve 4 problems #50 or higher, and solve 3 problems, #100 or higher.\n",
    "    - Another way to solve enough problems: Solve 6 problems, #100 or higher.\n",
    "    - A challenging way to solve enough problems: Solve 1 problem, #400 or higher. And solve 1 problem, numbered #800 or higher.\n",
    "\n",
    "If you have questions about problems you want to pick, or about your project in general, feel free to talk with Professor Smith."
   ]
  },
  {
   "cell_type": "markdown",
   "id": "7a2cbd42-cd57-45bf-a7a1-872c97474338",
   "metadata": {},
   "source": [
    "## A note on harder problems and runtime\n",
    "\n",
    "Many of the hard problems, especially those #400 or higher, have an added layer of challenge. They can be straightforward to code in smaller cases, but then very large cases causes the compiler to get stuck, either by too long of runtime or running out of memory. For example, simpler code for <a href= \"https://projecteuler.net/problem=822\">problem #822</a> might run smoothly for case $S(10, 100)$, but then get stuck at case $S(10^4, 10^{16})$ (The case required to consider this problem complete).\n",
    "\n",
    "This happens in Matlab and in Python, and part of the challenge for hard problems is to overcome these issues. There will always be a way to make your code more efficient, either by using clever techniques in programming or taking advantage of the mathematical structure and patterns of the problem. Again using <a href= \"https://projecteuler.net/problem=822\">#822</a> as an example, one student group in Fall 2024 was able to reduce the case $S(10^4, 10^{16})$ runtime from indefinite (there was no telling when the problem would finish, it could have been hours or days) to roughly 60 seconds. My computer, which is over 5 years old, was able to corroborate this timing on their old code versus their new code."
   ]
  },
  {
   "cell_type": "markdown",
   "id": "390ce720-019c-4f80-aead-1b4e25523e5b",
   "metadata": {},
   "source": [
    "## List of all problems\n",
    "__<a href=\"https://projecteuler.net/archives\">Project Euler Archives</a>__\n",
    "\n",
    "Note that higher problem numbers correlate to higher difficulty.\n",
    "\n",
    "## Suggested Problems in the #30 to #99 range (You are not limited to this list):\n",
    "\n",
    "- #30 Digit Fifth Powers\n",
    "- #31 Coin Sums  \n",
    "- #32 Pandigital Products  \n",
    "- #33 Digit Cancelling Fractions  \n",
    "- #34 Digit Factorials  \n",
    "- #35 Circular Primes  \n",
    "- #36 Doublebase Palindromes  \n",
    "- #37 Truncatable Primes  \n",
    "- #39 Integer Right Triangles  \n",
    "- #40 Champernowne's Constant  \n",
    "- #52 Permuted Multiples  \n",
    "- #54 Poker Hands  \n",
    "- #56 Powerful Digit Sum  \n",
    "- #58 Spiral Primes  \n",
    "- #81 Path Sum: Two Ways  \n",
    "- #82 Path Sum: Three Ways  \n",
    "- #83 Path Sum: Four Ways  \n",
    "- #99 Largest Exponential"
   ]
  }
 ],
 "metadata": {
  "kernelspec": {
   "display_name": "Python 3 (ipykernel)",
   "language": "python",
   "name": "python3"
  },
  "language_info": {
   "codemirror_mode": {
    "name": "ipython",
    "version": 3
   },
   "file_extension": ".py",
   "mimetype": "text/x-python",
   "name": "python",
   "nbconvert_exporter": "python",
   "pygments_lexer": "ipython3",
   "version": "3.12.7"
  }
 },
 "nbformat": 4,
 "nbformat_minor": 5
}