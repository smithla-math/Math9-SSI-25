{
 "cells": [
  {
   "cell_type": "markdown",
   "id": "f5f1a7a2-442f-4a49-8dbf-caa105e2d1b7",
   "metadata": {},
   "source": [
    "# Final Project Option: Data Analysis and Data Science"
   ]
  },
  {
   "cell_type": "markdown",
   "id": "0678b387-a25c-4389-ada5-25809a55100c",
   "metadata": {},
   "source": [
    "Have an interest in data analysis, and can't wait for Math 10? You are welcome to find datasets and pick some aspect or questions you would like to explore/analyze/answer using that data. This is more open-ended than the Math Challenge Problems, but the more thorough, clear, and interesting your analysis is, the better."
   ]
  },
  {
   "cell_type": "markdown",
   "id": "99dc0b32-f25a-45ed-8eff-c2197bf6a64e",
   "metadata": {},
   "source": [
    "## Pages which can help you find a data science topic\n",
    "\n",
    "- <a href=\"https://archive.ics.uci.edu/\">UCI Machine Learning Repository</a>\n",
    "- <a href=\"https://data.lacity.org/\">Los Angeles Open Data</a> (Much of the data is in .csv form)\n",
    "- <a href=\"https://data.ca.gov/\">California Open Data</a> (Look for datasets with the .csv tag)\n",
    "    - Of interest on this site, <a href=\"https://data.ca.gov/dataset/cal-fire\">CAL FIRE</a> makes much of its data open to the public\n",
    "- <a href=\"https://data.gov/\">Data.gov</a> (Some data is in .csv form, and this is the easiest to import into Python. Other data formats, like .json, require more work.)\n",
    "- <a href=\"https://nccd.cdc.gov/Youthonline/App/Default.aspx\">Youth Online: High School YRBS</a>\n",
    "- <a href=\"https://ourworldindata.org/data\">Our World in Data</a>\n",
    "- https://data.cdc.gov/\n",
    "- <a href=\"https://nflsavant.com/about.php\">NFLsavant.com</a> - about page includes downloadable spreadsheets with play-by-play data.\n",
    "- <a href=\"https://www.baseball-reference.com/\">Baseball Reference</a> (Many pages include downloadable .csv spreadsheets. Site links to other sports stats with the same features)\n",
    "- <a href=\"https://www.kaggle.com/datasets\">Kaggle</a> has tons of datasets. Some are user submitted, and some have discussion and analysis on their pages.\n",
    "\n",
    "__Please attribute your sources.__ This includes the datasets themselves, but also any examples or discussions you use for inspiration. If you would like to use other sites beyond those above, please check with me first."
   ]
  },
  {
   "cell_type": "markdown",
   "id": "0e4e5476-1ca6-4f7c-be99-7663765ce1ae",
   "metadata": {},
   "source": [
    "## Goal for your topic\n",
    "In general, you will find data from the internet, download the data as a .csv file, and upload this data into your programming compiler of choice (Python is much easier than Matlab for this). Once you upload the data, create charts based on your data, and see what sorts of questions you can answer.\n",
    "\n",
    "A full project here is considered to be like an essay. But instead of referring to news articles with their analysis, you will conduct your own analysis with data science. Things you will need to do:\n",
    "\n",
    "- Introduce us to your topic and questions.\n",
    "- Show us your data uploaded into your code.\n",
    "- Show any code you used, along with descriptions of what your code does.\n",
    "- Show visualizations, charts, and analysis you have done. Describe what your charts mean in the context of your question. You may use machine learning techniques (see the packages below), but you can still earn full credit without any machine learning in your project.\n",
    "- Tell us what conclusions you are able to come to, if any. Note that even inconclusive answers can still constitute full credit with proper analysis/justification.\n",
    "- __Cite all of your sources!__ Where did you pull data from? Did you use any sites to help you code? If you used AI, take a screenshot of your conversation and include them in your submission."
   ]
  },
  {
   "cell_type": "markdown",
   "id": "7bb93c97-3172-4314-9f16-95ca0f61e024",
   "metadata": {},
   "source": [
    "## Python Packages which can help you in data science\n",
    "The links below lead to Python packages with a lot of data science tools and visualizations. Since we don't cover these in class, part of the project involves learning how to use these packages.\n",
    "\n",
    "- <a href=\"https://pandas.pydata.org/docs/getting_started/intro_tutorials/index.html\">pandas 2.2.3 documentation.</a>  Pandas is already installed in Anaconda. This allows you to upload .csv files and manipulate charts of data (known as dataframes)\n",
    "- <a href=\"https://seaborn.pydata.org/examples/index.html\">Example gallery — seaborn 0.13.2 documentation.</a> Seaborn is already installed in Anaconda. This gives you access to a wide variety of visualizations.\n",
    "- <a href=\"https://scikit-learn.org/stable/auto_examples/index.html\">Examples — scikit-learn 1.5.2 documentation.</a> Scikit-learn is already installed in Anaconda. This gives you access to Machine Learning tools.\n",
    "\n",
    "You are welcome to use other packages as well, whether or not we covered them in class."
   ]
  },
  {
   "cell_type": "code",
   "execution_count": null,
   "id": "594980da-69f1-45e7-976b-771934868a12",
   "metadata": {},
   "outputs": [],
   "source": []
  }
 ],
 "metadata": {
  "kernelspec": {
   "display_name": "Python 3 (ipykernel)",
   "language": "python",
   "name": "python3"
  },
  "language_info": {
   "codemirror_mode": {
    "name": "ipython",
    "version": 3
   },
   "file_extension": ".py",
   "mimetype": "text/x-python",
   "name": "python",
   "nbconvert_exporter": "python",
   "pygments_lexer": "ipython3",
   "version": "3.12.7"
  }
 },
 "nbformat": 4,
 "nbformat_minor": 5
}