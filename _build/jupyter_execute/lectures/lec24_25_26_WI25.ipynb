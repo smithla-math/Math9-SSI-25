{
 "cells": [
  {
   "cell_type": "markdown",
   "id": "8bc2d2d4",
   "metadata": {},
   "source": [
    "# Lectures 24-26"
   ]
  },
  {
   "cell_type": "markdown",
   "id": "c324e892",
   "metadata": {},
   "source": [
    "__Today:__\n",
    "* Finish \"Pythonic Code\", Newton's Method"
   ]
  },
  {
   "cell_type": "markdown",
   "id": "e393bbd2",
   "metadata": {},
   "source": [
    "## f-strings – Pythonic Code 2 "
   ]
  },
  {
   "cell_type": "code",
   "execution_count": 1,
   "id": "3e807508",
   "metadata": {},
   "outputs": [
    {
     "name": "stdout",
     "output_type": "stream",
     "text": [
      "Yasmeen 13\n"
     ]
    }
   ],
   "source": [
    "name = \"Yasmeen\"\n",
    "n = 13 \n",
    "print(name, n)"
   ]
  },
  {
   "cell_type": "markdown",
   "id": "a4e4be95",
   "metadata": {},
   "source": [
    "Event though I have `name` and `n` defined, if I try the following, they're just interpreted as strings."
   ]
  },
  {
   "cell_type": "code",
   "execution_count": 2,
   "id": "8f11c1fa",
   "metadata": {},
   "outputs": [
    {
     "data": {
      "text/plain": [
       "'Hello, name, nice to meet you n times.'"
      ]
     },
     "execution_count": 2,
     "metadata": {},
     "output_type": "execute_result"
    }
   ],
   "source": [
    "\"Hello, name, nice to meet you n times.\""
   ]
  },
  {
   "cell_type": "markdown",
   "id": "d23e7839",
   "metadata": {},
   "source": [
    "If I did want to use the variables, there are a few ways we can do that. I'm first going to show you some not-so-elegant ways."
   ]
  },
  {
   "cell_type": "code",
   "execution_count": 3,
   "id": "bc5feeb5",
   "metadata": {},
   "outputs": [
    {
     "name": "stdout",
     "output_type": "stream",
     "text": [
      "Hello, Yasmeen nice to meet you 13 times.\n"
     ]
    }
   ],
   "source": [
    "print(\"Hello,\",name,\"nice to meet you\",n,\"times.\")"
   ]
  },
  {
   "cell_type": "markdown",
   "id": "c38e1f11",
   "metadata": {},
   "source": [
    "This is pretty cumbersome. If I had a longer sentence, or more variables, this is not really something I'd want to do."
   ]
  },
  {
   "cell_type": "markdown",
   "id": "2a5f20f1",
   "metadata": {},
   "source": [
    "Notice there is a small mistake here. Strings can only be added to other strings:"
   ]
  },
  {
   "cell_type": "code",
   "execution_count": 4,
   "id": "5ad2a52f",
   "metadata": {},
   "outputs": [
    {
     "ename": "TypeError",
     "evalue": "can only concatenate str (not \"int\") to str",
     "output_type": "error",
     "traceback": [
      "\u001b[1;31m---------------------------------------------------------------------------\u001b[0m",
      "\u001b[1;31mTypeError\u001b[0m                                 Traceback (most recent call last)",
      "Cell \u001b[1;32mIn[4], line 1\u001b[0m\n\u001b[1;32m----> 1\u001b[0m \u001b[38;5;124m\"\u001b[39m\u001b[38;5;124mHello \u001b[39m\u001b[38;5;124m\"\u001b[39m \u001b[38;5;241m+\u001b[39m name \u001b[38;5;241m+\u001b[39m \u001b[38;5;124m\"\u001b[39m\u001b[38;5;124m nice to meet you \u001b[39m\u001b[38;5;124m\"\u001b[39m \u001b[38;5;241m+\u001b[39m n \u001b[38;5;241m+\u001b[39m \u001b[38;5;124m\"\u001b[39m\u001b[38;5;124mtimes.\u001b[39m\u001b[38;5;124m\"\u001b[39m\n",
      "\u001b[1;31mTypeError\u001b[0m: can only concatenate str (not \"int\") to str"
     ]
    }
   ],
   "source": [
    "\"Hello \" + name + \" nice to meet you \" + n + \"times.\""
   ]
  },
  {
   "cell_type": "markdown",
   "id": "d567e30a",
   "metadata": {},
   "source": [
    "The issue is that `n` is an integer. Luckily, there's an easy fix for this."
   ]
  },
  {
   "cell_type": "code",
   "execution_count": 5,
   "id": "d52a956c-5cda-44b3-bdcc-b7429acef3e5",
   "metadata": {},
   "outputs": [
    {
     "data": {
      "text/plain": [
       "'13'"
      ]
     },
     "execution_count": 5,
     "metadata": {},
     "output_type": "execute_result"
    }
   ],
   "source": [
    "str(n)"
   ]
  },
  {
   "cell_type": "code",
   "execution_count": 6,
   "id": "80af19f3",
   "metadata": {},
   "outputs": [
    {
     "data": {
      "text/plain": [
       "'Hello, Yasmeen nice to meet you 13 times.'"
      ]
     },
     "execution_count": 6,
     "metadata": {},
     "output_type": "execute_result"
    }
   ],
   "source": [
    "\"Hello, \" + name + \" nice to meet you \" + str(n) + \" times.\""
   ]
  },
  {
   "cell_type": "markdown",
   "id": "07fa0da1",
   "metadata": {},
   "source": [
    "### Older way to format strings"
   ]
  },
  {
   "cell_type": "code",
   "execution_count": 7,
   "id": "48f6c59d",
   "metadata": {},
   "outputs": [
    {
     "data": {
      "text/plain": [
       "'Hello, Yasmeen, nice to meet you 13 times'"
      ]
     },
     "execution_count": 7,
     "metadata": {},
     "output_type": "execute_result"
    }
   ],
   "source": [
    "\"Hello, {}, nice to meet you {} times\".format(name,n)"
   ]
  },
  {
   "cell_type": "markdown",
   "id": "a14a241b",
   "metadata": {},
   "source": [
    "Q: What's not-so-great about this method?\n",
    "\n",
    "A: Need to keep in mind all of your variables for long string, _and_ the order that they appear in."
   ]
  },
  {
   "cell_type": "markdown",
   "id": "c3a662be",
   "metadata": {},
   "source": [
    "### Newer way to format strings"
   ]
  },
  {
   "cell_type": "markdown",
   "id": "03080be2",
   "metadata": {},
   "source": [
    "This is what we call an \"f-string\""
   ]
  },
  {
   "cell_type": "code",
   "execution_count": 8,
   "id": "48fc055a",
   "metadata": {},
   "outputs": [
    {
     "data": {
      "text/plain": [
       "'Hello, Yasmeen, nice to meet you 13 times.'"
      ]
     },
     "execution_count": 8,
     "metadata": {},
     "output_type": "execute_result"
    }
   ],
   "source": [
    "f\"Hello, {name}, nice to meet you {n} times.\""
   ]
  },
  {
   "cell_type": "markdown",
   "id": "2c7a4647",
   "metadata": {},
   "source": [
    "Here are some other ways we can format strings. These examples are not super important, they're just meant to show you an example of what's out there."
   ]
  },
  {
   "cell_type": "code",
   "execution_count": 9,
   "id": "ea562085",
   "metadata": {},
   "outputs": [
    {
     "data": {
      "text/plain": [
       "3486784401"
      ]
     },
     "execution_count": 9,
     "metadata": {},
     "output_type": "execute_result"
    }
   ],
   "source": [
    "m = 3**20\n",
    "m"
   ]
  },
  {
   "cell_type": "code",
   "execution_count": 10,
   "id": "ecd91de8",
   "metadata": {},
   "outputs": [
    {
     "data": {
      "text/plain": [
       "'3486784401'"
      ]
     },
     "execution_count": 10,
     "metadata": {},
     "output_type": "execute_result"
    }
   ],
   "source": [
    "f\"{m}\""
   ]
  },
  {
   "cell_type": "code",
   "execution_count": 11,
   "id": "3da0432c",
   "metadata": {},
   "outputs": [
    {
     "data": {
      "text/plain": [
       "'3.486784e+09'"
      ]
     },
     "execution_count": 11,
     "metadata": {},
     "output_type": "execute_result"
    }
   ],
   "source": [
    "f\"{m:e}\" #sci. notation"
   ]
  },
  {
   "cell_type": "code",
   "execution_count": 12,
   "id": "a4db4949-59cb-41ca-9f1e-fcc7a9992127",
   "metadata": {},
   "outputs": [
    {
     "data": {
      "text/plain": [
       "'3.486784401000000e+09'"
      ]
     },
     "execution_count": 12,
     "metadata": {},
     "output_type": "execute_result"
    }
   ],
   "source": [
    "f\"{m:.15e}\" #sci. notation, 15 decimal places"
   ]
  },
  {
   "cell_type": "code",
   "execution_count": 13,
   "id": "d01e7e40",
   "metadata": {},
   "outputs": [
    {
     "data": {
      "text/plain": [
       "'3486784401.000000'"
      ]
     },
     "execution_count": 13,
     "metadata": {},
     "output_type": "execute_result"
    }
   ],
   "source": [
    "float\n",
    "f\"{m:f}\""
   ]
  },
  {
   "cell_type": "code",
   "execution_count": 14,
   "id": "05142cb2-763e-4183-b5d3-92e36477a20b",
   "metadata": {},
   "outputs": [
    {
     "data": {
      "text/plain": [
       "'3486784401.000'"
      ]
     },
     "execution_count": 14,
     "metadata": {},
     "output_type": "execute_result"
    }
   ],
   "source": [
    "#float, 3 decimal places\n",
    "f\"{m:.3f}\""
   ]
  },
  {
   "cell_type": "code",
   "execution_count": 15,
   "id": "0e93cfae-91d7-4bb7-9a63-59567c256d76",
   "metadata": {},
   "outputs": [
    {
     "data": {
      "text/plain": [
       "'          3486784401'"
      ]
     },
     "execution_count": 15,
     "metadata": {},
     "output_type": "execute_result"
    }
   ],
   "source": [
    "#20 places of integer, with blanks for lead digits\n",
    "f\"{m:20}\""
   ]
  },
  {
   "cell_type": "code",
   "execution_count": 16,
   "id": "59660c17",
   "metadata": {},
   "outputs": [
    {
     "data": {
      "text/plain": [
       "2.8679719907924413e-10"
      ]
     },
     "execution_count": 16,
     "metadata": {},
     "output_type": "execute_result"
    }
   ],
   "source": [
    "1/m"
   ]
  },
  {
   "cell_type": "code",
   "execution_count": 17,
   "id": "08fe60dc-7063-445e-adff-8d75930775a4",
   "metadata": {},
   "outputs": [
    {
     "data": {
      "text/plain": [
       "'2.867972e-10'"
      ]
     },
     "execution_count": 17,
     "metadata": {},
     "output_type": "execute_result"
    }
   ],
   "source": [
    "f\"{1/m:e}\"   #lead digit is always 1st"
   ]
  },
  {
   "cell_type": "code",
   "execution_count": 18,
   "id": "a1deb31f",
   "metadata": {},
   "outputs": [
    {
     "data": {
      "text/plain": [
       "'0.0000'"
      ]
     },
     "execution_count": 18,
     "metadata": {},
     "output_type": "execute_result"
    }
   ],
   "source": [
    "f\"{1/m:.4f}\"    #4 decimals starting at the decimal point, not starting at the lead digit"
   ]
  },
  {
   "cell_type": "code",
   "execution_count": 19,
   "id": "ccb8e917",
   "metadata": {},
   "outputs": [
    {
     "data": {
      "text/plain": [
       "'0.000000000286797'"
      ]
     },
     "execution_count": 19,
     "metadata": {},
     "output_type": "execute_result"
    }
   ],
   "source": [
    "f\"{1/m:.15f}\""
   ]
  },
  {
   "cell_type": "code",
   "execution_count": 20,
   "id": "d145ad3a-7f84-45db-9400-59b3c29213e4",
   "metadata": {},
   "outputs": [
    {
     "data": {
      "text/plain": [
       "'2.867971990792441e-10'"
      ]
     },
     "execution_count": 20,
     "metadata": {},
     "output_type": "execute_result"
    }
   ],
   "source": [
    "f\"{1/m:.15e}\""
   ]
  },
  {
   "cell_type": "code",
   "execution_count": 21,
   "id": "3b8d0fc3",
   "metadata": {},
   "outputs": [],
   "source": [
    "z = 17"
   ]
  },
  {
   "cell_type": "code",
   "execution_count": 22,
   "id": "505dd803",
   "metadata": {},
   "outputs": [
    {
     "data": {
      "text/plain": [
       "'10001'"
      ]
     },
     "execution_count": 22,
     "metadata": {},
     "output_type": "execute_result"
    }
   ],
   "source": [
    "f\"{z:b}\" #b for binary"
   ]
  },
  {
   "cell_type": "code",
   "execution_count": 23,
   "id": "90165690-ee9a-42cf-b0ec-324bd69ac1a7",
   "metadata": {},
   "outputs": [
    {
     "data": {
      "text/plain": [
       "'    10001'"
      ]
     },
     "execution_count": 23,
     "metadata": {},
     "output_type": "execute_result"
    }
   ],
   "source": [
    "f\"{z:9b}\" #b for binary, 9 digits"
   ]
  },
  {
   "cell_type": "code",
   "execution_count": 24,
   "id": "4fa6c395-c731-419f-a0f7-121600bbedd4",
   "metadata": {},
   "outputs": [
    {
     "data": {
      "text/plain": [
       "'000010001'"
      ]
     },
     "execution_count": 24,
     "metadata": {},
     "output_type": "execute_result"
    }
   ],
   "source": [
    "f\"{z:09b}\" #b for binary, 9 digits"
   ]
  },
  {
   "cell_type": "code",
   "execution_count": 25,
   "id": "45ee227c-eef2-4e66-81be-6b80c98178b9",
   "metadata": {},
   "outputs": [
    {
     "data": {
      "text/plain": [
       "'-00010001'"
      ]
     },
     "execution_count": 25,
     "metadata": {},
     "output_type": "execute_result"
    }
   ],
   "source": [
    "f\"{-17:09b}\"  #negative sign counts as one of the symbols"
   ]
  },
  {
   "cell_type": "code",
   "execution_count": 26,
   "id": "4cd6ec41-246e-471b-8158-74d446cf8ee4",
   "metadata": {},
   "outputs": [
    {
     "data": {
      "text/plain": [
       "'-00010001'"
      ]
     },
     "execution_count": 26,
     "metadata": {},
     "output_type": "execute_result"
    }
   ],
   "source": [
    "f\"{-17:+09b}\""
   ]
  },
  {
   "cell_type": "code",
   "execution_count": 27,
   "id": "0ca582cd-710b-41a6-91f2-0332a3d0ef8f",
   "metadata": {},
   "outputs": [
    {
     "data": {
      "text/plain": [
       "'+00010001'"
      ]
     },
     "execution_count": 27,
     "metadata": {},
     "output_type": "execute_result"
    }
   ],
   "source": [
    "f\"{17:+09b}\"  #same number of digits for + and -"
   ]
  },
  {
   "cell_type": "code",
   "execution_count": 28,
   "id": "8fdb6138-8d37-4679-83e4-b580e1519865",
   "metadata": {},
   "outputs": [
    {
     "data": {
      "text/plain": [
       "' 00010001'"
      ]
     },
     "execution_count": 28,
     "metadata": {},
     "output_type": "execute_result"
    }
   ],
   "source": [
    "f\"{17: 09b}\"  #same number of digits for + and -, but now + does not show up"
   ]
  },
  {
   "cell_type": "markdown",
   "id": "e49443ac",
   "metadata": {},
   "source": [
    "## lambda functions – Pythonic Code 3 "
   ]
  },
  {
   "cell_type": "markdown",
   "id": "b1b77788",
   "metadata": {},
   "source": [
    "A few comments before we get started:\n",
    "\n",
    "* These should make you think of function handles from MATLAB.\n",
    "* Sometimes lambda functions are called nameless/anonymous functions – in practice, you don't usually name these functions, but we'll be naming them in lecture for teaching purposes.\n",
    "* Lambda functions can have _any_ number of arguments, but the code must take up a single line.\n",
    "* Similar to function handles, they are often used as inputs to other functions, or maybe used just once in the code."
   ]
  },
  {
   "cell_type": "markdown",
   "id": "69b2ac3a",
   "metadata": {},
   "source": [
    "***"
   ]
  },
  {
   "cell_type": "markdown",
   "id": "be70615d",
   "metadata": {},
   "source": [
    "* Write a function `cap` that takes as input a string `s`, and as output returns the same string capitalized."
   ]
  },
  {
   "cell_type": "markdown",
   "id": "e431c3b3",
   "metadata": {},
   "source": [
    "Let's first try this by writing a regular function. Notice it takes a single line."
   ]
  },
  {
   "cell_type": "code",
   "execution_count": 29,
   "id": "3cc5e7df",
   "metadata": {},
   "outputs": [],
   "source": [
    "def cap(s):\n",
    "    return s.capitalize()"
   ]
  },
  {
   "cell_type": "code",
   "execution_count": 30,
   "id": "0ca6c756-fb1b-455d-9c11-527d1e144752",
   "metadata": {},
   "outputs": [
    {
     "data": {
      "text/plain": [
       "'Hello'"
      ]
     },
     "execution_count": 30,
     "metadata": {},
     "output_type": "execute_result"
    }
   ],
   "source": [
    "\"hello\".capitalize()"
   ]
  },
  {
   "cell_type": "code",
   "execution_count": 31,
   "id": "9fcd9e33",
   "metadata": {},
   "outputs": [
    {
     "data": {
      "text/plain": [
       "'Hello'"
      ]
     },
     "execution_count": 31,
     "metadata": {},
     "output_type": "execute_result"
    }
   ],
   "source": [
    "cap(\"hello\")"
   ]
  },
  {
   "cell_type": "code",
   "execution_count": 32,
   "id": "9313b2d9",
   "metadata": {},
   "outputs": [
    {
     "data": {
      "text/plain": [
       "'Picasso'"
      ]
     },
     "execution_count": 32,
     "metadata": {},
     "output_type": "execute_result"
    }
   ],
   "source": [
    "cap(\"picasso\")"
   ]
  },
  {
   "cell_type": "markdown",
   "id": "3ebf8bfb",
   "metadata": {},
   "source": [
    "Let's now try to write this same function with a lambda function."
   ]
  },
  {
   "cell_type": "code",
   "execution_count": 33,
   "id": "2e18dc39",
   "metadata": {},
   "outputs": [],
   "source": [
    "cap = lambda s: s.capitalize()     #lambda s means s is the input. The part after the colon is the output"
   ]
  },
  {
   "cell_type": "code",
   "execution_count": 34,
   "id": "f6acecff",
   "metadata": {},
   "outputs": [
    {
     "data": {
      "text/plain": [
       "'Sammy'"
      ]
     },
     "execution_count": 34,
     "metadata": {},
     "output_type": "execute_result"
    }
   ],
   "source": [
    "cap(\"sammy\")"
   ]
  },
  {
   "cell_type": "code",
   "execution_count": 35,
   "id": "2a69d94f",
   "metadata": {},
   "outputs": [
    {
     "data": {
      "text/plain": [
       "'Bandit'"
      ]
     },
     "execution_count": 35,
     "metadata": {},
     "output_type": "execute_result"
    }
   ],
   "source": [
    "cap(\"bandit\")"
   ]
  },
  {
   "cell_type": "markdown",
   "id": "125c921f",
   "metadata": {},
   "source": [
    "* Write a function `plus` that takes two inputs and adds them together."
   ]
  },
  {
   "cell_type": "markdown",
   "id": "f4aadf72",
   "metadata": {},
   "source": [
    "We don't really need a function to do this, but it's just for practice with multiple arguments."
   ]
  },
  {
   "cell_type": "code",
   "execution_count": 36,
   "id": "f7edca93",
   "metadata": {},
   "outputs": [],
   "source": [
    "plus = lambda x,y: x+y"
   ]
  },
  {
   "cell_type": "code",
   "execution_count": 37,
   "id": "5dfee0d4",
   "metadata": {},
   "outputs": [
    {
     "data": {
      "text/plain": [
       "8"
      ]
     },
     "execution_count": 37,
     "metadata": {},
     "output_type": "execute_result"
    }
   ],
   "source": [
    "plus(5,3)"
   ]
  },
  {
   "cell_type": "code",
   "execution_count": 38,
   "id": "573fc74c",
   "metadata": {},
   "outputs": [
    {
     "data": {
      "text/plain": [
       "'hello, world'"
      ]
     },
     "execution_count": 38,
     "metadata": {},
     "output_type": "execute_result"
    }
   ],
   "source": [
    "plus(\"hello, \", \"world\")"
   ]
  },
  {
   "cell_type": "markdown",
   "id": "3f20beb2",
   "metadata": {},
   "source": [
    "* Make a $20 \\times 3$ NumPy array of random letters, then concatenate each row of three letters into a single length-3 string using `np.apply_along_axis`."
   ]
  },
  {
   "cell_type": "code",
   "execution_count": 39,
   "id": "ae152cea",
   "metadata": {},
   "outputs": [],
   "source": [
    "import numpy as np\n",
    "import string #comes with Python"
   ]
  },
  {
   "cell_type": "code",
   "execution_count": 40,
   "id": "4a7ad19c",
   "metadata": {},
   "outputs": [],
   "source": [
    "rng = np.random.default_rng()"
   ]
  },
  {
   "cell_type": "code",
   "execution_count": 41,
   "id": "6b6db4b5",
   "metadata": {},
   "outputs": [
    {
     "data": {
      "text/plain": [
       "['Formatter',\n",
       " 'Template',\n",
       " '_ChainMap',\n",
       " '__all__',\n",
       " '__builtins__',\n",
       " '__cached__',\n",
       " '__doc__',\n",
       " '__file__',\n",
       " '__loader__',\n",
       " '__name__',\n",
       " '__package__',\n",
       " '__spec__',\n",
       " '_re',\n",
       " '_sentinel_dict',\n",
       " '_string',\n",
       " 'ascii_letters',\n",
       " 'ascii_lowercase',\n",
       " 'ascii_uppercase',\n",
       " 'capwords',\n",
       " 'digits',\n",
       " 'hexdigits',\n",
       " 'octdigits',\n",
       " 'printable',\n",
       " 'punctuation',\n",
       " 'whitespace']"
      ]
     },
     "execution_count": 41,
     "metadata": {},
     "output_type": "execute_result"
    }
   ],
   "source": [
    "dir(string)"
   ]
  },
  {
   "cell_type": "code",
   "execution_count": 42,
   "id": "cec365f4",
   "metadata": {},
   "outputs": [],
   "source": [
    "#dir(np)\n",
    "#commented out because wow so large"
   ]
  },
  {
   "cell_type": "code",
   "execution_count": 43,
   "id": "3f1d584e",
   "metadata": {},
   "outputs": [
    {
     "data": {
      "text/plain": [
       "'abcdefghijklmnopqrstuvwxyzABCDEFGHIJKLMNOPQRSTUVWXYZ'"
      ]
     },
     "execution_count": 43,
     "metadata": {},
     "output_type": "execute_result"
    }
   ],
   "source": [
    "letters = string.ascii_letters\n",
    "letters"
   ]
  },
  {
   "cell_type": "code",
   "execution_count": 44,
   "id": "b0092f1d",
   "metadata": {},
   "outputs": [
    {
     "data": {
      "text/plain": [
       "str"
      ]
     },
     "execution_count": 44,
     "metadata": {},
     "output_type": "execute_result"
    }
   ],
   "source": [
    "type(letters)"
   ]
  },
  {
   "cell_type": "markdown",
   "id": "4d9f84bb",
   "metadata": {},
   "source": [
    "The following code is close, but will throw an error. See if you can spot it."
   ]
  },
  {
   "cell_type": "code",
   "execution_count": 45,
   "id": "0aaeb590",
   "metadata": {},
   "outputs": [
    {
     "ename": "ValueError",
     "evalue": "a must be a sequence or an integer, not <class 'str'>",
     "output_type": "error",
     "traceback": [
      "\u001b[1;31m---------------------------------------------------------------------------\u001b[0m",
      "\u001b[1;31mTypeError\u001b[0m                                 Traceback (most recent call last)",
      "File \u001b[1;32mnumpy\\\\random\\\\_generator.pyx:793\u001b[0m, in \u001b[0;36mnumpy.random._generator.Generator.choice\u001b[1;34m()\u001b[0m\n",
      "\u001b[1;31mTypeError\u001b[0m: 'str' object cannot be interpreted as an integer",
      "\nThe above exception was the direct cause of the following exception:\n",
      "\u001b[1;31mValueError\u001b[0m                                Traceback (most recent call last)",
      "Cell \u001b[1;32mIn[45], line 1\u001b[0m\n\u001b[1;32m----> 1\u001b[0m rng\u001b[38;5;241m.\u001b[39mchoice(letters,size\u001b[38;5;241m=\u001b[39m(\u001b[38;5;241m20\u001b[39m,\u001b[38;5;241m3\u001b[39m))\n",
      "File \u001b[1;32mnumpy\\\\random\\\\_generator.pyx:795\u001b[0m, in \u001b[0;36mnumpy.random._generator.Generator.choice\u001b[1;34m()\u001b[0m\n",
      "\u001b[1;31mValueError\u001b[0m: a must be a sequence or an integer, not <class 'str'>"
     ]
    }
   ],
   "source": [
    "rng.choice(letters,size=(20,3))"
   ]
  },
  {
   "cell_type": "markdown",
   "id": "aeb04af6",
   "metadata": {},
   "source": [
    "The issue here is that `letters` is a string. We can easily fix this by converting it to a list."
   ]
  },
  {
   "cell_type": "code",
   "execution_count": 46,
   "id": "2adcf794",
   "metadata": {},
   "outputs": [
    {
     "data": {
      "text/plain": [
       "array([['p', 'd', 'Q'],\n",
       "       ['r', 'g', 'S'],\n",
       "       ['k', 'U', 'A'],\n",
       "       ['i', 'H', 'S'],\n",
       "       ['N', 't', 'R'],\n",
       "       ['i', 'U', 'Q'],\n",
       "       ['c', 'u', 'y'],\n",
       "       ['l', 'l', 'm'],\n",
       "       ['v', 'e', 'H'],\n",
       "       ['z', 'Q', 'x'],\n",
       "       ['o', 'f', 'P'],\n",
       "       ['r', 'Z', 'j'],\n",
       "       ['t', 'Q', 'D'],\n",
       "       ['e', 'k', 'n'],\n",
       "       ['X', 'r', 'C'],\n",
       "       ['z', 'l', 'Z'],\n",
       "       ['y', 'p', 'T'],\n",
       "       ['F', 'P', 'm'],\n",
       "       ['b', 'H', 'A'],\n",
       "       ['t', 'i', 'b']], dtype='<U1')"
      ]
     },
     "execution_count": 46,
     "metadata": {},
     "output_type": "execute_result"
    }
   ],
   "source": [
    "arr = rng.choice(list(letters),size=(20,3))\n",
    "arr"
   ]
  },
  {
   "cell_type": "markdown",
   "id": "e6e0d5bc",
   "metadata": {},
   "source": [
    "Here's the basic idea of how we'll merge the columns."
   ]
  },
  {
   "cell_type": "code",
   "execution_count": 47,
   "id": "60d27f64",
   "metadata": {},
   "outputs": [
    {
     "data": {
      "text/plain": [
       "array(['p', 'd', 'Q'], dtype='<U1')"
      ]
     },
     "execution_count": 47,
     "metadata": {},
     "output_type": "execute_result"
    }
   ],
   "source": [
    "arr[0]"
   ]
  },
  {
   "cell_type": "code",
   "execution_count": 48,
   "id": "bd9f1708",
   "metadata": {},
   "outputs": [
    {
     "data": {
      "text/plain": [
       "'pdQ'"
      ]
     },
     "execution_count": 48,
     "metadata": {},
     "output_type": "execute_result"
    }
   ],
   "source": [
    "\"\".join(arr[0])"
   ]
  },
  {
   "cell_type": "markdown",
   "id": "6a5626bf",
   "metadata": {},
   "source": [
    "Now, we need to apply this idea to every row of `arr`."
   ]
  },
  {
   "cell_type": "code",
   "execution_count": 49,
   "id": "4448e061",
   "metadata": {},
   "outputs": [
    {
     "data": {
      "text/plain": [
       "array(['pdQ', 'rgS', 'kUA', 'iHS', 'NtR', 'iUQ', 'cuy', 'llm', 'veH',\n",
       "       'zQx', 'ofP', 'rZj', 'tQD', 'ekn', 'XrC', 'zlZ', 'ypT', 'FPm',\n",
       "       'bHA', 'tib'], dtype='<U3')"
      ]
     },
     "execution_count": 49,
     "metadata": {},
     "output_type": "execute_result"
    }
   ],
   "source": [
    "np.apply_along_axis(\"\".join,axis=1,arr=arr)"
   ]
  },
  {
   "cell_type": "code",
   "execution_count": 50,
   "id": "b09dd15e-3387-489d-884f-4723671e6a76",
   "metadata": {},
   "outputs": [],
   "source": [
    "joinrows = lambda arr: np.apply_along_axis(\"\".join,axis=1,arr=arr)"
   ]
  },
  {
   "cell_type": "code",
   "execution_count": 51,
   "id": "1be89ada-16dc-4c22-8dca-d348912b008b",
   "metadata": {},
   "outputs": [
    {
     "data": {
      "text/plain": [
       "array(['pdQ', 'rgS', 'kUA', 'iHS', 'NtR', 'iUQ', 'cuy', 'llm', 'veH',\n",
       "       'zQx', 'ofP', 'rZj', 'tQD', 'ekn', 'XrC', 'zlZ', 'ypT', 'FPm',\n",
       "       'bHA', 'tib'], dtype='<U3')"
      ]
     },
     "execution_count": 51,
     "metadata": {},
     "output_type": "execute_result"
    }
   ],
   "source": [
    "joinrows(arr)"
   ]
  },
  {
   "cell_type": "markdown",
   "id": "2cf582e6",
   "metadata": {},
   "source": [
    "* Let `tuplist` be the following list of tuples. Sort the list so that the numbers are increasing.\n",
    "\n",
    "`[(\"B\",70),(\"A\",50),(\"C\",100),(\"D\",45), (\"A\", 32)]`"
   ]
  },
  {
   "cell_type": "code",
   "execution_count": 52,
   "id": "b1f32043",
   "metadata": {},
   "outputs": [],
   "source": [
    "tuplist = [(\"B\",70),(\"A\",50),(\"C\",100),(\"D\",45), (\"A\", 32)]"
   ]
  },
  {
   "cell_type": "code",
   "execution_count": 53,
   "id": "cc0912f7",
   "metadata": {},
   "outputs": [
    {
     "name": "stdout",
     "output_type": "stream",
     "text": [
      "Help on built-in function sorted in module builtins:\n",
      "\n",
      "sorted(iterable, /, *, key=None, reverse=False)\n",
      "    Return a new list containing all items from the iterable in ascending order.\n",
      "\n",
      "    A custom key function can be supplied to customize the sort order, and the\n",
      "    reverse flag can be set to request the result in descending order.\n",
      "\n"
     ]
    }
   ],
   "source": [
    "help(sorted)"
   ]
  },
  {
   "cell_type": "markdown",
   "id": "367e75e4",
   "metadata": {},
   "source": [
    "The symbols `/,*` mean that I have to specify the keywords."
   ]
  },
  {
   "cell_type": "code",
   "execution_count": 54,
   "id": "4f10430d",
   "metadata": {},
   "outputs": [
    {
     "data": {
      "text/plain": [
       "[('A', 32), ('A', 50), ('B', 70), ('C', 100), ('D', 45)]"
      ]
     },
     "execution_count": 54,
     "metadata": {},
     "output_type": "execute_result"
    }
   ],
   "source": [
    "#Letters are sorted by default, not the numbers. Why?\n",
    "#sorted arranges by index 0 first, then by index 1 when there's a tie, such as for \"A\"\n",
    "sorted(tuplist)"
   ]
  },
  {
   "cell_type": "code",
   "execution_count": 55,
   "id": "9febc610-3c5b-48d7-9477-6b3b3485b1e1",
   "metadata": {},
   "outputs": [
    {
     "name": "stdout",
     "output_type": "stream",
     "text": [
      "('B', 70)\n"
     ]
    },
    {
     "data": {
      "text/plain": [
       "70"
      ]
     },
     "execution_count": 55,
     "metadata": {},
     "output_type": "execute_result"
    }
   ],
   "source": [
    "tup = tuplist[0]\n",
    "print(tup)\n",
    "tup[1]"
   ]
  },
  {
   "cell_type": "code",
   "execution_count": 56,
   "id": "6576352f-9310-4995-9881-0f8103e5af98",
   "metadata": {},
   "outputs": [
    {
     "data": {
      "text/plain": [
       "70"
      ]
     },
     "execution_count": 56,
     "metadata": {},
     "output_type": "execute_result"
    }
   ],
   "source": [
    "keytest = lambda tup: tup[1]   #This shows how we use the key in the cells below\n",
    "keytest(tuplist[0])"
   ]
  },
  {
   "cell_type": "code",
   "execution_count": 57,
   "id": "2d2caa06-4aa7-47d8-8b34-491c6bcaed10",
   "metadata": {},
   "outputs": [
    {
     "data": {
      "text/plain": [
       "70"
      ]
     },
     "execution_count": 57,
     "metadata": {},
     "output_type": "execute_result"
    }
   ],
   "source": [
    "keytest(tup)"
   ]
  },
  {
   "cell_type": "markdown",
   "id": "c5b55bbb",
   "metadata": {},
   "source": [
    "I need to specify how I'd actually like to order `tuplist`"
   ]
  },
  {
   "cell_type": "code",
   "execution_count": 58,
   "id": "e4f6c4ba",
   "metadata": {},
   "outputs": [
    {
     "data": {
      "text/plain": [
       "[('A', 32), ('D', 45), ('A', 50), ('B', 70), ('C', 100)]"
      ]
     },
     "execution_count": 58,
     "metadata": {},
     "output_type": "execute_result"
    }
   ],
   "source": [
    "sorted(tuplist, key=lambda tup: tup[1])"
   ]
  },
  {
   "cell_type": "markdown",
   "id": "33a33a6d",
   "metadata": {},
   "source": [
    "What if I wanted to go in decreasing order?"
   ]
  },
  {
   "cell_type": "code",
   "execution_count": 59,
   "id": "c9473012",
   "metadata": {},
   "outputs": [
    {
     "data": {
      "text/plain": [
       "[('C', 100), ('B', 70), ('A', 50), ('D', 45), ('A', 32)]"
      ]
     },
     "execution_count": 59,
     "metadata": {},
     "output_type": "execute_result"
    }
   ],
   "source": [
    "sorted(tuplist, key=lambda tup: tup[1], reverse=True)"
   ]
  },
  {
   "cell_type": "markdown",
   "id": "91439e6f",
   "metadata": {},
   "source": [
    "How could I ensure I sort by letters instead?"
   ]
  },
  {
   "cell_type": "code",
   "execution_count": 60,
   "id": "66b079c6",
   "metadata": {},
   "outputs": [
    {
     "data": {
      "text/plain": [
       "[('A', 50), ('A', 32), ('B', 70), ('C', 100), ('D', 45)]"
      ]
     },
     "execution_count": 60,
     "metadata": {},
     "output_type": "execute_result"
    }
   ],
   "source": [
    "sorted(tuplist, key=lambda tup: tup[0])   #Note that ONLY the 0 index is sorted. The 1 index is ignored. This is different from no key."
   ]
  },
  {
   "cell_type": "code",
   "execution_count": 61,
   "id": "f656aae4",
   "metadata": {},
   "outputs": [
    {
     "data": {
      "text/plain": [
       "[('D', 45), ('C', 100), ('B', 70), ('A', 50), ('A', 32)]"
      ]
     },
     "execution_count": 61,
     "metadata": {},
     "output_type": "execute_result"
    }
   ],
   "source": [
    "sorted(tuplist, key=lambda tup: tup[0],reverse=True)"
   ]
  },
  {
   "cell_type": "markdown",
   "id": "48d6308d",
   "metadata": {},
   "source": [
    "## Formatting a NumPy Array"
   ]
  },
  {
   "cell_type": "markdown",
   "id": "37abd0f2",
   "metadata": {},
   "source": [
    "We will use lambda functions and f-strings to format a NumPy array."
   ]
  },
  {
   "cell_type": "code",
   "execution_count": 62,
   "id": "9d5d7dbe",
   "metadata": {},
   "outputs": [],
   "source": [
    "import numpy as np\n",
    "rng = np.random.default_rng(seed=1)   #seed is used for demonstrations, to ensure the same random numbers run.\n",
    "arr = rng.normal(size = 100)"
   ]
  },
  {
   "cell_type": "code",
   "execution_count": 63,
   "id": "caf60c7c-c449-4e1a-8551-eea987a362f1",
   "metadata": {},
   "outputs": [
    {
     "data": {
      "text/plain": [
       "array([ 3.45584192e-01,  8.21618144e-01,  3.30437076e-01, -1.30315723e+00,\n",
       "        9.05355867e-01,  4.46374572e-01, -5.36953235e-01,  5.81118104e-01,\n",
       "        3.64572396e-01,  2.94132497e-01,  2.84222413e-02,  5.46712987e-01,\n",
       "       -7.36454087e-01, -1.62909948e-01, -4.82119313e-01,  5.98846213e-01,\n",
       "        3.97221075e-02, -2.92456751e-01, -7.81908462e-01, -2.57192241e-01,\n",
       "        8.14218052e-03, -2.75602905e-01,  1.29406381e+00,  1.00672432e+00,\n",
       "       -2.71116248e+00, -1.88901325e+00, -1.74772092e-01, -4.22190412e-01,\n",
       "        2.13642997e-01,  2.17321931e-01,  2.11783876e+00, -1.11202076e+00,\n",
       "       -3.77605007e-01,  2.04277161e+00,  6.46702996e-01,  6.63063372e-01,\n",
       "       -5.14006372e-01, -1.64807517e+00,  1.67464744e-01,  1.09014088e-01,\n",
       "       -1.22735205e+00, -6.83226662e-01, -7.20436797e-02, -9.44751623e-01,\n",
       "       -9.82699679e-02,  9.54830275e-02,  3.55862371e-02, -5.06291658e-01,\n",
       "        5.93748072e-01,  8.91166954e-01,  3.20848305e-01, -8.18230227e-01,\n",
       "        7.31652284e-01, -5.01440018e-01,  8.79160618e-01, -1.07178742e+00,\n",
       "        9.14467203e-01, -2.00634546e-02, -1.24874889e+00, -3.13899472e-01,\n",
       "        5.41022788e-02,  2.72791339e-01, -9.82188125e-01, -1.10737305e+00,\n",
       "        1.99584533e-01, -4.66749617e-01,  2.35505612e-01,  7.59519522e-01,\n",
       "       -1.64878737e+00,  2.54388117e-01,  1.22464697e+00, -2.97526844e-01,\n",
       "       -8.10814583e-01,  7.52243827e-01,  2.53446516e-01,  8.95883071e-01,\n",
       "       -3.45215710e-01, -1.48181827e+00, -1.10010765e-01, -4.45828153e-01,\n",
       "        7.75323822e-01,  1.93632848e-01, -1.63084923e+00, -1.19516308e+00,\n",
       "        8.83789037e-01,  6.79765017e-01, -6.40243366e-01, -1.04879657e-03,\n",
       "        4.45573554e-01,  4.68404336e-01,  8.76242196e-01,  2.56485627e-01,\n",
       "       -9.48283390e-02, -2.58848065e-01,  1.05574280e+00, -2.25085428e+00,\n",
       "       -1.38655325e-01,  3.30001040e-02, -1.42534896e+00,  3.32813613e-01])"
      ]
     },
     "execution_count": 63,
     "metadata": {},
     "output_type": "execute_result"
    }
   ],
   "source": [
    "arr"
   ]
  },
  {
   "cell_type": "code",
   "execution_count": 64,
   "id": "42777cdf-55ed-4bbd-94b0-6676cff999f2",
   "metadata": {},
   "outputs": [
    {
     "data": {
      "text/plain": [
       "array([-6.51281012e-01,  8.62444796e-01, -1.25592084e-01,  6.69153241e-01,\n",
       "        1.21884361e+00,  3.82929583e-01, -8.75721143e-01, -1.51431863e+00,\n",
       "        1.75338412e+00, -1.11292193e-01, -6.88564948e-01,  1.44257088e-01,\n",
       "       -1.91411330e-01,  8.52142264e-01,  3.39281824e-02,  1.37495836e-02,\n",
       "       -7.14579721e-01,  4.69568099e-01, -1.03386672e+00,  6.65889440e-01,\n",
       "        1.52393751e+00, -1.52468604e+00, -2.46622923e+00,  6.16878755e-01,\n",
       "        2.54789782e+00, -1.00092485e+00, -1.25069576e+00,  5.88968934e-01,\n",
       "       -8.40721590e-01, -5.06025484e-01, -3.48117467e-01,  5.32002086e-01,\n",
       "       -4.05302361e-01,  2.77882840e-01, -1.76533259e-01, -8.44671104e-01,\n",
       "       -3.19826258e-01, -9.50399665e-01,  6.51498587e-03, -1.12386623e+00,\n",
       "       -1.09289437e+00,  1.45696182e+00, -5.31842203e-02, -5.39020255e-02,\n",
       "        5.11536420e-01, -4.20857003e-01, -2.28535367e-01,  4.25148735e-01,\n",
       "        2.82415842e-01, -1.15929673e+00,  8.33342597e-01, -5.90434943e-01,\n",
       "       -1.05607895e+00, -9.00475070e-01, -3.90545344e-01,  1.62730025e+00,\n",
       "       -1.17553590e+00,  1.60075893e-01, -2.13782436e+00, -1.56693315e-03,\n",
       "        8.99566417e-01, -2.36663322e-01, -6.29354924e-01,  2.31511064e-01,\n",
       "        7.00151751e-01,  6.63657571e-01,  1.97247385e+00,  2.09167472e-01,\n",
       "       -5.92410100e-01, -1.25979190e-01, -7.24985456e-02,  1.08737383e-01,\n",
       "       -3.00278132e-02,  1.73965939e-01, -1.67085006e+00,  8.29628956e-01,\n",
       "       -5.74739269e-01, -1.17315870e+00,  6.37751160e-01,  1.31732601e+00,\n",
       "        4.93028149e-01,  1.61159314e-01, -9.32220305e-01,  2.87156734e+00,\n",
       "        8.80258621e-01, -1.13929467e+00, -7.79637916e-01,  8.69792486e-02,\n",
       "       -1.55473113e+00,  1.68630407e-01, -4.59071556e-01,  1.22627060e+00,\n",
       "        9.62154664e-01, -2.71128544e+00,  4.17025860e-02, -1.61746750e+00,\n",
       "        1.10963800e+00,  1.68105869e-01,  5.48405452e-01, -1.06512473e+00])"
      ]
     },
     "execution_count": 64,
     "metadata": {},
     "output_type": "execute_result"
    }
   ],
   "source": [
    "arr = rng.normal(size = 100)\n",
    "arr"
   ]
  },
  {
   "cell_type": "markdown",
   "id": "aa45907d",
   "metadata": {},
   "source": [
    "Maybe I don't like the exponential notation. Let's change that first."
   ]
  },
  {
   "cell_type": "code",
   "execution_count": 65,
   "id": "5e3a4d2b",
   "metadata": {},
   "outputs": [
    {
     "name": "stdout",
     "output_type": "stream",
     "text": [
      "Help on function set_printoptions in module numpy:\n",
      "\n",
      "set_printoptions(precision=None, threshold=None, edgeitems=None, linewidth=None, suppress=None, nanstr=None, infstr=None, formatter=None, sign=None, floatmode=None, *, legacy=None)\n",
      "    Set printing options.\n",
      "\n",
      "    These options determine the way floating point numbers, arrays and\n",
      "    other NumPy objects are displayed.\n",
      "\n",
      "    Parameters\n",
      "    ----------\n",
      "    precision : int or None, optional\n",
      "        Number of digits of precision for floating point output (default 8).\n",
      "        May be None if `floatmode` is not `fixed`, to print as many digits as\n",
      "        necessary to uniquely specify the value.\n",
      "    threshold : int, optional\n",
      "        Total number of array elements which trigger summarization\n",
      "        rather than full repr (default 1000).\n",
      "        To always use the full repr without summarization, pass `sys.maxsize`.\n",
      "    edgeitems : int, optional\n",
      "        Number of array items in summary at beginning and end of\n",
      "        each dimension (default 3).\n",
      "    linewidth : int, optional\n",
      "        The number of characters per line for the purpose of inserting\n",
      "        line breaks (default 75).\n",
      "    suppress : bool, optional\n",
      "        If True, always print floating point numbers using fixed point\n",
      "        notation, in which case numbers equal to zero in the current precision\n",
      "        will print as zero.  If False, then scientific notation is used when\n",
      "        absolute value of the smallest number is < 1e-4 or the ratio of the\n",
      "        maximum absolute value to the minimum is > 1e3. The default is False.\n",
      "    nanstr : str, optional\n",
      "        String representation of floating point not-a-number (default nan).\n",
      "    infstr : str, optional\n",
      "        String representation of floating point infinity (default inf).\n",
      "    sign : string, either '-', '+', or ' ', optional\n",
      "        Controls printing of the sign of floating-point types. If '+', always\n",
      "        print the sign of positive values. If ' ', always prints a space\n",
      "        (whitespace character) in the sign position of positive values.  If\n",
      "        '-', omit the sign character of positive values. (default '-')\n",
      "    formatter : dict of callables, optional\n",
      "        If not None, the keys should indicate the type(s) that the respective\n",
      "        formatting function applies to.  Callables should return a string.\n",
      "        Types that are not specified (by their corresponding keys) are handled\n",
      "        by the default formatters.  Individual types for which a formatter\n",
      "        can be set are:\n",
      "\n",
      "        - 'bool'\n",
      "        - 'int'\n",
      "        - 'timedelta' : a `numpy.timedelta64`\n",
      "        - 'datetime' : a `numpy.datetime64`\n",
      "        - 'float'\n",
      "        - 'longfloat' : 128-bit floats\n",
      "        - 'complexfloat'\n",
      "        - 'longcomplexfloat' : composed of two 128-bit floats\n",
      "        - 'numpystr' : types `numpy.bytes_` and `numpy.str_`\n",
      "        - 'object' : `np.object_` arrays\n",
      "\n",
      "        Other keys that can be used to set a group of types at once are:\n",
      "\n",
      "        - 'all' : sets all types\n",
      "        - 'int_kind' : sets 'int'\n",
      "        - 'float_kind' : sets 'float' and 'longfloat'\n",
      "        - 'complex_kind' : sets 'complexfloat' and 'longcomplexfloat'\n",
      "        - 'str_kind' : sets 'numpystr'\n",
      "    floatmode : str, optional\n",
      "        Controls the interpretation of the `precision` option for\n",
      "        floating-point types. Can take the following values\n",
      "        (default maxprec_equal):\n",
      "\n",
      "        * 'fixed': Always print exactly `precision` fractional digits,\n",
      "                even if this would print more or fewer digits than\n",
      "                necessary to specify the value uniquely.\n",
      "        * 'unique': Print the minimum number of fractional digits necessary\n",
      "                to represent each value uniquely. Different elements may\n",
      "                have a different number of digits. The value of the\n",
      "                `precision` option is ignored.\n",
      "        * 'maxprec': Print at most `precision` fractional digits, but if\n",
      "                an element can be uniquely represented with fewer digits\n",
      "                only print it with that many.\n",
      "        * 'maxprec_equal': Print at most `precision` fractional digits,\n",
      "                but if every element in the array can be uniquely\n",
      "                represented with an equal number of fewer digits, use that\n",
      "                many digits for all elements.\n",
      "    legacy : string or `False`, optional\n",
      "        If set to the string `'1.13'` enables 1.13 legacy printing mode. This\n",
      "        approximates numpy 1.13 print output by including a space in the sign\n",
      "        position of floats and different behavior for 0d arrays. This also\n",
      "        enables 1.21 legacy printing mode (described below).\n",
      "\n",
      "        If set to the string `'1.21'` enables 1.21 legacy printing mode. This\n",
      "        approximates numpy 1.21 print output of complex structured dtypes\n",
      "        by not inserting spaces after commas that separate fields and after\n",
      "        colons.\n",
      "\n",
      "        If set to `False`, disables legacy mode.\n",
      "\n",
      "        Unrecognized strings will be ignored with a warning for forward\n",
      "        compatibility.\n",
      "\n",
      "        .. versionadded:: 1.14.0\n",
      "        .. versionchanged:: 1.22.0\n",
      "\n",
      "    See Also\n",
      "    --------\n",
      "    get_printoptions, printoptions, set_string_function, array2string\n",
      "\n",
      "    Notes\n",
      "    -----\n",
      "    `formatter` is always reset with a call to `set_printoptions`.\n",
      "\n",
      "    Use `printoptions` as a context manager to set the values temporarily.\n",
      "\n",
      "    Examples\n",
      "    --------\n",
      "    Floating point precision can be set:\n",
      "\n",
      "    >>> np.set_printoptions(precision=4)\n",
      "    >>> np.array([1.123456789])\n",
      "    [1.1235]\n",
      "\n",
      "    Long arrays can be summarised:\n",
      "\n",
      "    >>> np.set_printoptions(threshold=5)\n",
      "    >>> np.arange(10)\n",
      "    array([0, 1, 2, ..., 7, 8, 9])\n",
      "\n",
      "    Small results can be suppressed:\n",
      "\n",
      "    >>> eps = np.finfo(float).eps\n",
      "    >>> x = np.arange(4.)\n",
      "    >>> x**2 - (x + eps)**2\n",
      "    array([-4.9304e-32, -4.4409e-16,  0.0000e+00,  0.0000e+00])\n",
      "    >>> np.set_printoptions(suppress=True)\n",
      "    >>> x**2 - (x + eps)**2\n",
      "    array([-0., -0.,  0.,  0.])\n",
      "\n",
      "    A custom formatter can be used to display array elements as desired:\n",
      "\n",
      "    >>> np.set_printoptions(formatter={'all':lambda x: 'int: '+str(-x)})\n",
      "    >>> x = np.arange(3)\n",
      "    >>> x\n",
      "    array([int: 0, int: -1, int: -2])\n",
      "    >>> np.set_printoptions()  # formatter gets reset\n",
      "    >>> x\n",
      "    array([0, 1, 2])\n",
      "\n",
      "    To put back the default options, you can use:\n",
      "\n",
      "    >>> np.set_printoptions(edgeitems=3, infstr='inf',\n",
      "    ... linewidth=75, nanstr='nan', precision=8,\n",
      "    ... suppress=False, threshold=1000, formatter=None)\n",
      "\n",
      "    Also to temporarily override options, use `printoptions` as a context manager:\n",
      "\n",
      "    >>> with np.printoptions(precision=2, suppress=True, threshold=5):\n",
      "    ...     np.linspace(0, 10, 10)\n",
      "    array([ 0.  ,  1.11,  2.22, ...,  7.78,  8.89, 10.  ])\n",
      "\n"
     ]
    }
   ],
   "source": [
    "help(np.set_printoptions)"
   ]
  },
  {
   "cell_type": "code",
   "execution_count": 66,
   "id": "ce28cd13",
   "metadata": {},
   "outputs": [],
   "source": [
    "np.set_printoptions(formatter={'float':lambda x:f\"{x:.4f}\"})"
   ]
  },
  {
   "cell_type": "code",
   "execution_count": 67,
   "id": "0519db2e",
   "metadata": {},
   "outputs": [
    {
     "data": {
      "text/plain": [
       "array([-0.6513, 0.8624, -0.1256, 0.6692, 1.2188, 0.3829, -0.8757, -1.5143,\n",
       "       1.7534, -0.1113, -0.6886, 0.1443, -0.1914, 0.8521, 0.0339, 0.0137,\n",
       "       -0.7146, 0.4696, -1.0339, 0.6659, 1.5239, -1.5247, -2.4662, 0.6169,\n",
       "       2.5479, -1.0009, -1.2507, 0.5890, -0.8407, -0.5060, -0.3481,\n",
       "       0.5320, -0.4053, 0.2779, -0.1765, -0.8447, -0.3198, -0.9504,\n",
       "       0.0065, -1.1239, -1.0929, 1.4570, -0.0532, -0.0539, 0.5115,\n",
       "       -0.4209, -0.2285, 0.4251, 0.2824, -1.1593, 0.8333, -0.5904,\n",
       "       -1.0561, -0.9005, -0.3905, 1.6273, -1.1755, 0.1601, -2.1378,\n",
       "       -0.0016, 0.8996, -0.2367, -0.6294, 0.2315, 0.7002, 0.6637, 1.9725,\n",
       "       0.2092, -0.5924, -0.1260, -0.0725, 0.1087, -0.0300, 0.1740,\n",
       "       -1.6709, 0.8296, -0.5747, -1.1732, 0.6378, 1.3173, 0.4930, 0.1612,\n",
       "       -0.9322, 2.8716, 0.8803, -1.1393, -0.7796, 0.0870, -1.5547, 0.1686,\n",
       "       -0.4591, 1.2263, 0.9622, -2.7113, 0.0417, -1.6175, 1.1096, 0.1681,\n",
       "       0.5484, -1.0651])"
      ]
     },
     "execution_count": 67,
     "metadata": {},
     "output_type": "execute_result"
    }
   ],
   "source": [
    "arr"
   ]
  },
  {
   "cell_type": "markdown",
   "id": "eba7d3e7",
   "metadata": {},
   "source": [
    "Maybe now I want the columns to be lined up a little bit more nicely."
   ]
  },
  {
   "cell_type": "code",
   "execution_count": 68,
   "id": "8dab1b4e",
   "metadata": {},
   "outputs": [],
   "source": [
    "np.set_printoptions(formatter={'float':lambda x:f\"{x:+.4f}\"})"
   ]
  },
  {
   "cell_type": "code",
   "execution_count": 69,
   "id": "b1a99faf",
   "metadata": {},
   "outputs": [
    {
     "data": {
      "text/plain": [
       "array([-0.6513, +0.8624, -0.1256, +0.6692, +1.2188, +0.3829, -0.8757,\n",
       "       -1.5143, +1.7534, -0.1113, -0.6886, +0.1443, -0.1914, +0.8521,\n",
       "       +0.0339, +0.0137, -0.7146, +0.4696, -1.0339, +0.6659, +1.5239,\n",
       "       -1.5247, -2.4662, +0.6169, +2.5479, -1.0009, -1.2507, +0.5890,\n",
       "       -0.8407, -0.5060, -0.3481, +0.5320, -0.4053, +0.2779, -0.1765,\n",
       "       -0.8447, -0.3198, -0.9504, +0.0065, -1.1239, -1.0929, +1.4570,\n",
       "       -0.0532, -0.0539, +0.5115, -0.4209, -0.2285, +0.4251, +0.2824,\n",
       "       -1.1593, +0.8333, -0.5904, -1.0561, -0.9005, -0.3905, +1.6273,\n",
       "       -1.1755, +0.1601, -2.1378, -0.0016, +0.8996, -0.2367, -0.6294,\n",
       "       +0.2315, +0.7002, +0.6637, +1.9725, +0.2092, -0.5924, -0.1260,\n",
       "       -0.0725, +0.1087, -0.0300, +0.1740, -1.6709, +0.8296, -0.5747,\n",
       "       -1.1732, +0.6378, +1.3173, +0.4930, +0.1612, -0.9322, +2.8716,\n",
       "       +0.8803, -1.1393, -0.7796, +0.0870, -1.5547, +0.1686, -0.4591,\n",
       "       +1.2263, +0.9622, -2.7113, +0.0417, -1.6175, +1.1096, +0.1681,\n",
       "       +0.5484, -1.0651])"
      ]
     },
     "execution_count": 69,
     "metadata": {},
     "output_type": "execute_result"
    }
   ],
   "source": [
    "arr"
   ]
  },
  {
   "cell_type": "markdown",
   "id": "aa8ab56b",
   "metadata": {},
   "source": [
    "Maybe it looks a little cluttered with the plus signs, we could use a space instead."
   ]
  },
  {
   "cell_type": "code",
   "execution_count": 70,
   "id": "1dffe3db",
   "metadata": {},
   "outputs": [],
   "source": [
    "np.set_printoptions(formatter={'float':lambda x:f\"{x: .4f}\"})"
   ]
  },
  {
   "cell_type": "code",
   "execution_count": 71,
   "id": "5771b71a",
   "metadata": {},
   "outputs": [
    {
     "data": {
      "text/plain": [
       "array([-0.6513,  0.8624, -0.1256,  0.6692,  1.2188,  0.3829, -0.8757,\n",
       "       -1.5143,  1.7534, -0.1113, -0.6886,  0.1443, -0.1914,  0.8521,\n",
       "        0.0339,  0.0137, -0.7146,  0.4696, -1.0339,  0.6659,  1.5239,\n",
       "       -1.5247, -2.4662,  0.6169,  2.5479, -1.0009, -1.2507,  0.5890,\n",
       "       -0.8407, -0.5060, -0.3481,  0.5320, -0.4053,  0.2779, -0.1765,\n",
       "       -0.8447, -0.3198, -0.9504,  0.0065, -1.1239, -1.0929,  1.4570,\n",
       "       -0.0532, -0.0539,  0.5115, -0.4209, -0.2285,  0.4251,  0.2824,\n",
       "       -1.1593,  0.8333, -0.5904, -1.0561, -0.9005, -0.3905,  1.6273,\n",
       "       -1.1755,  0.1601, -2.1378, -0.0016,  0.8996, -0.2367, -0.6294,\n",
       "        0.2315,  0.7002,  0.6637,  1.9725,  0.2092, -0.5924, -0.1260,\n",
       "       -0.0725,  0.1087, -0.0300,  0.1740, -1.6709,  0.8296, -0.5747,\n",
       "       -1.1732,  0.6378,  1.3173,  0.4930,  0.1612, -0.9322,  2.8716,\n",
       "        0.8803, -1.1393, -0.7796,  0.0870, -1.5547,  0.1686, -0.4591,\n",
       "        1.2263,  0.9622, -2.7113,  0.0417, -1.6175,  1.1096,  0.1681,\n",
       "        0.5484, -1.0651])"
      ]
     },
     "execution_count": 71,
     "metadata": {},
     "output_type": "execute_result"
    }
   ],
   "source": [
    "arr"
   ]
  },
  {
   "cell_type": "markdown",
   "id": "56827fa4",
   "metadata": {},
   "source": [
    "## Mathematical Introduction to Newton's Method"
   ]
  },
  {
   "attachments": {},
   "cell_type": "markdown",
   "id": "45df2ab7",
   "metadata": {},
   "source": [
    "![](../images/26.jpg)\n",
    "![](../images/27.jpg)"
   ]
  },
  {
   "cell_type": "markdown",
   "id": "395ffcce",
   "metadata": {},
   "source": [
    "Link to Desmos examples:\n",
    "\n",
    "* <a href=\"https://www.desmos.com/calculator/kscqgvi4gs\"> Interactive $f(x)=\\frac{1}{20} x^3-2$ example </a>\n",
    "\n",
    "* <a href=\"https://www.desmos.com/calculator/oxn8f5bn8e\"> $f(x)=x^3-2$ example </a>\n",
    "* <a href=\"https://www.desmos.com/calculator/iimbderdld\"> $f(x) = x^3-2x+2$ example </a>"
   ]
  },
  {
   "cell_type": "markdown",
   "id": "f8d690e1",
   "metadata": {},
   "source": [
    "## Applying at a good point"
   ]
  },
  {
   "cell_type": "markdown",
   "id": "a3eb63f3",
   "metadata": {},
   "source": [
    "Let $f(x) = x^3 - 2x + 2$. Starting at $x_0 = -1.5$, apply Newton's method three times to estimate a root of $f$."
   ]
  },
  {
   "cell_type": "code",
   "execution_count": 72,
   "id": "80a94b6b-4e76-49b1-9fea-871b9f8facb1",
   "metadata": {},
   "outputs": [],
   "source": [
    "import numpy as np"
   ]
  },
  {
   "cell_type": "code",
   "execution_count": 73,
   "id": "2d7f75a5",
   "metadata": {},
   "outputs": [],
   "source": [
    "import matplotlib.pyplot as plt\n",
    "import seaborn as sns"
   ]
  },
  {
   "cell_type": "code",
   "execution_count": 74,
   "id": "df1572e7",
   "metadata": {},
   "outputs": [],
   "source": [
    "f = lambda x: x**3-2*x+2"
   ]
  },
  {
   "cell_type": "markdown",
   "id": "6193b2e1",
   "metadata": {},
   "source": [
    "There are sophisticated ways of getting derivatives in python (take a look at <a href=\"https://stackoverflow.com/questions/9876290/how-do-i-compute-derivative-using-numpy\"> Python Stackoverflow: How do I compute derivatives using numpy? </a>) , but for this class we'll just code it by hand."
   ]
  },
  {
   "cell_type": "code",
   "execution_count": 75,
   "id": "a179a62d",
   "metadata": {},
   "outputs": [],
   "source": [
    "df = lambda x: 3*x**2-2"
   ]
  },
  {
   "cell_type": "markdown",
   "id": "d732f983",
   "metadata": {},
   "source": [
    "Remember: If my guess is $(x_0,f(x_0))$, the next point is given by $\\displaystyle x_0 - \\frac{f(x_0)}{f'(x_0)}$."
   ]
  },
  {
   "cell_type": "code",
   "execution_count": 76,
   "id": "789f53d1",
   "metadata": {},
   "outputs": [],
   "source": [
    "newt = lambda z: z - f(z)/df(z)"
   ]
  },
  {
   "cell_type": "code",
   "execution_count": 77,
   "id": "29fd2675",
   "metadata": {},
   "outputs": [],
   "source": [
    "z = -1.5\n",
    "reps = 3\n",
    "arr = np.zeros(reps+1)\n",
    "arr[0] = z\n",
    "\n",
    "for i in range(reps):\n",
    "    arr[i+1] = newt(arr[i])"
   ]
  },
  {
   "cell_type": "markdown",
   "id": "7ce57748-9abd-46ab-9bfd-6e3ce38b4de8",
   "metadata": {},
   "source": [
    "`arr` contains the sequence of x-values we have generated. "
   ]
  },
  {
   "cell_type": "code",
   "execution_count": 78,
   "id": "c49b68e1",
   "metadata": {},
   "outputs": [
    {
     "data": {
      "text/plain": [
       "array([-1.5000, -1.8421, -1.7728, -1.7693])"
      ]
     },
     "execution_count": 78,
     "metadata": {},
     "output_type": "execute_result"
    }
   ],
   "source": [
    "arr"
   ]
  },
  {
   "cell_type": "markdown",
   "id": "780fb238-fe30-4fe9-99c6-d065c9b450ea",
   "metadata": {},
   "source": [
    "`f(arr)` contains the y-values corresponding to `arr`. The closer we get to 0, the better our root approximation is."
   ]
  },
  {
   "cell_type": "code",
   "execution_count": 79,
   "id": "cf82d76d",
   "metadata": {},
   "outputs": [
    {
     "data": {
      "text/plain": [
       "array([ 1.6250, -0.5667, -0.0262, -0.0001])"
      ]
     },
     "execution_count": 79,
     "metadata": {},
     "output_type": "execute_result"
    }
   ],
   "source": [
    "f(arr)"
   ]
  },
  {
   "cell_type": "markdown",
   "id": "30a48f79-551f-4086-a6c3-7f310c8801b0",
   "metadata": {},
   "source": [
    "We can change the formatting to make it clear how small these values get."
   ]
  },
  {
   "cell_type": "code",
   "execution_count": 80,
   "id": "3508b515-d69a-4629-8c3f-546c67aa1a93",
   "metadata": {},
   "outputs": [
    {
     "data": {
      "text/plain": [
       "array([ 1.62500, -0.56670, -0.02619, -0.00007])"
      ]
     },
     "execution_count": 80,
     "metadata": {},
     "output_type": "execute_result"
    }
   ],
   "source": [
    "np.set_printoptions(formatter={'float':lambda x:f\"{x: .5f}\"})\n",
    "f(arr)"
   ]
  },
  {
   "cell_type": "code",
   "execution_count": 81,
   "id": "078bc544-6aba-4cf4-86e8-8453dbb0fbac",
   "metadata": {},
   "outputs": [
    {
     "name": "stdout",
     "output_type": "stream",
     "text": [
      "(-1.7693012925504517, -6.606515197438156e-05)\n"
     ]
    }
   ],
   "source": [
    "print((arr[-1], f(arr[-1])))"
   ]
  },
  {
   "cell_type": "markdown",
   "id": "413ac8c5",
   "metadata": {},
   "source": [
    "Notice we did a pretty good job, since `f` of our last point is close to zero."
   ]
  },
  {
   "cell_type": "code",
   "execution_count": 82,
   "id": "ae097d2f",
   "metadata": {},
   "outputs": [
    {
     "data": {
      "text/plain": [
       "-1.7728264273412229"
      ]
     },
     "execution_count": 82,
     "metadata": {},
     "output_type": "execute_result"
    }
   ],
   "source": [
    "newt(-1.8421) #applying the current x-value in Newton's method gives the next x-value"
   ]
  },
  {
   "cell_type": "code",
   "execution_count": 83,
   "id": "1a47e02d",
   "metadata": {},
   "outputs": [],
   "source": [
    "sns.set_style(\"darkgrid\")\n",
    "#plt.style.use('seaborn-darkgrid')"
   ]
  },
  {
   "cell_type": "code",
   "execution_count": 84,
   "id": "73ae4360",
   "metadata": {},
   "outputs": [
    {
     "data": {
      "text/plain": [
       "[<matplotlib.lines.Line2D at 0x1ec77b80aa0>]"
      ]
     },
     "execution_count": 84,
     "metadata": {},
     "output_type": "execute_result"
    },
    {
     "data": {
      "image/png": "[encoded data removed]",
      "text/plain": [
       "<Figure size 640x480 with 1 Axes>"
      ]
     },
     "metadata": {},
     "output_type": "display_data"
    }
   ],
   "source": [
    "fig,ax = plt.subplots()\n",
    "x = np.linspace(-2,2,1000)\n",
    "ax.plot(x,f(x))\n",
    "ax.plot(arr[-1],f(arr[-1]), 'ro')   #plot the last point from our array of approximations."
   ]
  },
  {
   "cell_type": "markdown",
   "id": "7ae3782b",
   "metadata": {},
   "source": [
    "## Applying at a worse point"
   ]
  },
  {
   "cell_type": "markdown",
   "id": "0fa71e76",
   "metadata": {},
   "source": [
    "Let $f(x) = x^3 - 2x + 2$. Starting at $x_0 = -0.5$, apply Newton's method three times to estimate a root of $f$."
   ]
  },
  {
   "cell_type": "code",
   "execution_count": 85,
   "id": "f820b5e6",
   "metadata": {},
   "outputs": [],
   "source": [
    "z = -0.5\n",
    "reps = 3\n",
    "arr = np.zeros(reps+1)\n",
    "arr[0] = z\n",
    "\n",
    "for i in range(reps):\n",
    "    arr[i+1] = newt(arr[i])"
   ]
  },
  {
   "cell_type": "code",
   "execution_count": 86,
   "id": "c5595aee",
   "metadata": {},
   "outputs": [
    {
     "data": {
      "text/plain": [
       "array([-0.50000,  1.80000,  1.25181,  0.71203])"
      ]
     },
     "execution_count": 86,
     "metadata": {},
     "output_type": "execute_result"
    }
   ],
   "source": [
    "arr"
   ]
  },
  {
   "cell_type": "code",
   "execution_count": 87,
   "id": "19dbb093",
   "metadata": {},
   "outputs": [
    {
     "data": {
      "text/plain": [
       "0.9369290496425093"
      ]
     },
     "execution_count": 87,
     "metadata": {},
     "output_type": "execute_result"
    }
   ],
   "source": [
    "f(arr[-1])"
   ]
  },
  {
   "cell_type": "markdown",
   "id": "3f3dc798",
   "metadata": {},
   "source": [
    "Notice, this is a much worse estimate than what we got before when we started at $x_0 = -1.5$."
   ]
  },
  {
   "cell_type": "markdown",
   "id": "79bb713e",
   "metadata": {},
   "source": [
    "Recall: The equation of the tangent line to $f(x)$ at $x_0$ is \n",
    "$$\n",
    "y-f(x_0) = f'(x_0)(x - x_0).\n",
    "$$\n",
    "This gives\n",
    "$$\n",
    "y = f'(x_0)(x-x_0) + f(x_0).\n",
    "$$"
   ]
  },
  {
   "cell_type": "code",
   "execution_count": 88,
   "id": "05517f00",
   "metadata": {},
   "outputs": [],
   "source": [
    "def tang(x0):\n",
    "    return lambda x: df(x0)*(x-x0)+f(x0)"
   ]
  },
  {
   "cell_type": "code",
   "execution_count": 89,
   "id": "f4782e5e",
   "metadata": {},
   "outputs": [
    {
     "data": {
      "text/plain": [
       "<function __main__.tang.<locals>.<lambda>(x)>"
      ]
     },
     "execution_count": 89,
     "metadata": {},
     "output_type": "execute_result"
    }
   ],
   "source": [
    "tang(arr[0])   #Use the first guess as the x-value of this tangent line"
   ]
  },
  {
   "cell_type": "code",
   "execution_count": 90,
   "id": "f15254f0-f8fa-40c2-a5f8-2ba7e5317066",
   "metadata": {},
   "outputs": [
    {
     "data": {
      "text/plain": [
       "2.25"
      ]
     },
     "execution_count": 90,
     "metadata": {},
     "output_type": "execute_result"
    }
   ],
   "source": [
    "tang(arr[0])(0)  #example of plugging 0 into the tangent line"
   ]
  },
  {
   "cell_type": "code",
   "execution_count": 91,
   "id": "914865ed",
   "metadata": {},
   "outputs": [
    {
     "data": {
      "image/png": "[encoded data removed]",
      "text/plain": [
       "<Figure size 640x480 with 1 Axes>"
      ]
     },
     "metadata": {},
     "output_type": "display_data"
    }
   ],
   "source": [
    "fig,ax = plt.subplots()\n",
    "x = np.linspace(-2,2,1000)\n",
    "ax.plot(x,f(x))\n",
    "for i in range(reps):\n",
    "    ax.plot(x,tang(arr[i])(x))\n",
    "    ax.plot(arr[i+1],0,'ko')\n",
    "ax.set(xlim=(-2,2),ylim=(-2,4));"
   ]
  },
  {
   "cell_type": "code",
   "execution_count": 92,
   "id": "7d7a3216-ebe9-40f4-910d-4acd0e982c5b",
   "metadata": {},
   "outputs": [
    {
     "data": {
      "image/png": "[encoded data removed]",
      "text/plain": [
       "<Figure size 600x1800 with 3 Axes>"
      ]
     },
     "metadata": {},
     "output_type": "display_data"
    }
   ],
   "source": [
    "z = -0.5\n",
    "reps = 3\n",
    "arr = np.zeros(reps+1)\n",
    "arr[0] = z\n",
    "\n",
    "for i in range(reps):\n",
    "    arr[i+1] = newt(arr[i])\n",
    "\n",
    "fig,ax = plt.subplots(reps,1)   #3 rows (or whatever I set reps equal to) of plots in 1 column.\n",
    "fig.set_size_inches((6,6*reps))\n",
    "axs_flat = ax.reshape(-1)\n",
    "\n",
    "x = np.linspace(-2,2,1000)\n",
    "for i in range(reps):\n",
    "    ax = axs_flat[i]   #draw to figure i in this iteration of the loop.\n",
    "    ax.plot(x,f(x));\n",
    "    for j in range(i+1):\n",
    "        ax.plot(x,tang(arr[j])(x));\n",
    "        ax.plot(arr[j+1],0,'ko')\n",
    "        xtrace = arr[j+1]*np.ones(2)\n",
    "        ytrace = np.linspace(0, f(arr[j+1]), 2)\n",
    "        ax.plot(xtrace, ytrace, linestyle='dotted')\n",
    "        ax.set(xlim=(-0.1,2),ylim=(-2,6));"
   ]
  },
  {
   "cell_type": "markdown",
   "id": "ce8be2c7",
   "metadata": {},
   "source": [
    "You can change the `reps` to 10, and notice that we don't converge to a zero."
   ]
  },
  {
   "cell_type": "markdown",
   "id": "668ee315",
   "metadata": {},
   "source": [
    "Let's now look at the same plot, but for when we start at a good point: $x_0 = -1.5$."
   ]
  },
  {
   "cell_type": "code",
   "execution_count": 93,
   "id": "0e442e69",
   "metadata": {},
   "outputs": [],
   "source": [
    "z = -1.5\n",
    "reps = 10\n",
    "arr = np.zeros(reps+1)\n",
    "arr[0] = z\n",
    "\n",
    "for i in range(reps):\n",
    "    arr[i+1] = newt(arr[i])"
   ]
  },
  {
   "cell_type": "code",
   "execution_count": 94,
   "id": "c10af7a2",
   "metadata": {},
   "outputs": [
    {
     "data": {
      "image/png": "[encoded data removed]",
      "text/plain": [
       "<Figure size 640x480 with 1 Axes>"
      ]
     },
     "metadata": {},
     "output_type": "display_data"
    }
   ],
   "source": [
    "fig,ax = plt.subplots()\n",
    "x = np.linspace(-2,2,1000)\n",
    "ax.plot(x,f(x));\n",
    "for i in range(reps):\n",
    "    ax.plot(x,tang(arr[i])(x));\n",
    "    ax.plot(arr[i+1],0,'ko')\n",
    "ax.set(xlim=(-3,2),ylim=(-5,5));"
   ]
  },
  {
   "cell_type": "markdown",
   "id": "e87b7432",
   "metadata": {},
   "source": [
    "Remember when we tried this function with a start of $z=0$ in Desmos. Let's try it here."
   ]
  },
  {
   "cell_type": "code",
   "execution_count": 95,
   "id": "e98e2a42",
   "metadata": {},
   "outputs": [],
   "source": [
    "z = 0\n",
    "reps = 10\n",
    "arr = np.zeros(reps+1)\n",
    "arr[0] = z\n",
    "\n",
    "for i in range(reps):\n",
    "    arr[i+1] = newt(arr[i])"
   ]
  },
  {
   "cell_type": "code",
   "execution_count": 96,
   "id": "e958544b",
   "metadata": {},
   "outputs": [
    {
     "data": {
      "image/png": "[encoded data removed]",
      "text/plain": [
       "<Figure size 640x480 with 1 Axes>"
      ]
     },
     "metadata": {},
     "output_type": "display_data"
    }
   ],
   "source": [
    "fig,ax = plt.subplots()\n",
    "x = np.linspace(-2,2,1000)\n",
    "ax.plot(x,f(x));\n",
    "for i in range(reps):\n",
    "    ax.plot(x,tang(arr[i])(x));\n",
    "    ax.plot(arr[i+1],0,'ko')\n",
    "ax.set(xlim=(-3,3),ylim=(-5,5));"
   ]
  },
  {
   "cell_type": "code",
   "execution_count": 97,
   "id": "9934ef44",
   "metadata": {},
   "outputs": [
    {
     "data": {
      "text/plain": [
       "array([ 0.00000,  1.00000,  0.00000,  1.00000,  0.00000,  1.00000,\n",
       "        0.00000,  1.00000,  0.00000,  1.00000,  0.00000])"
      ]
     },
     "execution_count": 97,
     "metadata": {},
     "output_type": "execute_result"
    }
   ],
   "source": [
    "arr"
   ]
  },
  {
   "cell_type": "markdown",
   "id": "298a9d44",
   "metadata": {},
   "source": [
    "An example that goes wrong, at first"
   ]
  },
  {
   "cell_type": "code",
   "execution_count": 98,
   "id": "e98134d3",
   "metadata": {},
   "outputs": [],
   "source": [
    "f = lambda x: (x-2)**4\n",
    "df = lambda x: 4*(x-2)**3"
   ]
  },
  {
   "cell_type": "code",
   "execution_count": 99,
   "id": "cd88f9f6",
   "metadata": {},
   "outputs": [
    {
     "name": "stderr",
     "output_type": "stream",
     "text": [
      "C:\\Users\\lukea\\AppData\\Local\\Temp\\ipykernel_3276\\326974613.py:1: RuntimeWarning: invalid value encountered in scalar divide\n",
      "  newt = lambda z: z - f(z)/df(z)\n"
     ]
    }
   ],
   "source": [
    "z = 2\n",
    "reps = 10\n",
    "arr = np.zeros(reps+1)\n",
    "arr[0] = z\n",
    "\n",
    "for i in range(reps):\n",
    "    arr[i+1] = newt(arr[i])"
   ]
  },
  {
   "cell_type": "markdown",
   "id": "8e15eb7f",
   "metadata": {},
   "source": [
    "Notice! We get division by zero errors, since `df` is zero at `z=2`."
   ]
  },
  {
   "cell_type": "code",
   "execution_count": 100,
   "id": "ec106d79",
   "metadata": {},
   "outputs": [],
   "source": [
    "z = 1.5 #our guess is required to have nonzero derivative.\n",
    "reps = 10\n",
    "arr = np.zeros(reps+1)\n",
    "arr[0] = z\n",
    "\n",
    "for i in range(reps):\n",
    "    arr[i+1] = newt(arr[i])"
   ]
  },
  {
   "cell_type": "code",
   "execution_count": 101,
   "id": "0125d011",
   "metadata": {},
   "outputs": [
    {
     "data": {
      "image/png": "[encoded data removed]",
      "text/plain": [
       "<Figure size 640x480 with 1 Axes>"
      ]
     },
     "metadata": {},
     "output_type": "display_data"
    }
   ],
   "source": [
    "fig,ax = plt.subplots()\n",
    "x = np.linspace(-2,2,1000)\n",
    "ax.plot(x,f(x));\n",
    "for i in range(reps):\n",
    "    ax.plot(x,tang(arr[i])(x));\n",
    "    ax.plot(arr[i+1],0,'ko')\n",
    "ax.set(xlim=(0,2),ylim=(-0.25,1));"
   ]
  },
  {
   "cell_type": "code",
   "execution_count": 102,
   "id": "4999b278-23c3-4b8c-b1fc-78218af31d02",
   "metadata": {},
   "outputs": [
    {
     "data": {
      "image/png": "[encoded data removed]",
      "text/plain": [
       "<Figure size 640x480 with 1 Axes>"
      ]
     },
     "metadata": {},
     "output_type": "display_data"
    }
   ],
   "source": [
    "fig,ax = plt.subplots()\n",
    "x = np.linspace(-2,2,1000)\n",
    "ax.plot(x,f(x));\n",
    "for i in range(reps):\n",
    "    ax.plot(x,tang(arr[i])(x));\n",
    "    ax.plot(arr[i+1],0,'ko')\n",
    "ax.set(xlim=(1.5,2),ylim=(-0.02,0.07));"
   ]
  },
  {
   "cell_type": "code",
   "execution_count": 103,
   "id": "fb4cc691",
   "metadata": {},
   "outputs": [
    {
     "data": {
      "text/plain": [
       "array([ 1.50000,  1.62500,  1.71875,  1.78906,  1.84180,  1.88135,\n",
       "        1.91101,  1.93326,  1.94994,  1.96246,  1.97184])"
      ]
     },
     "execution_count": 103,
     "metadata": {},
     "output_type": "execute_result"
    }
   ],
   "source": [
    "arr"
   ]
  },
  {
   "cell_type": "code",
   "execution_count": 104,
   "id": "b2d7156d",
   "metadata": {},
   "outputs": [
    {
     "data": {
      "text/plain": [
       "array([ 0.06250,  0.01978,  0.00626,  0.00198,  0.00063,  0.00020,\n",
       "        0.00006,  0.00002,  0.00001,  0.00000,  0.00000])"
      ]
     },
     "execution_count": 104,
     "metadata": {},
     "output_type": "execute_result"
    }
   ],
   "source": [
    "f(arr)"
   ]
  },
  {
   "cell_type": "markdown",
   "id": "70efd80c",
   "metadata": {},
   "source": [
    "***"
   ]
  },
  {
   "cell_type": "markdown",
   "id": "6f0df9aa",
   "metadata": {},
   "source": [
    "Next time:"
   ]
  },
  {
   "cell_type": "markdown",
   "id": "ff305d64",
   "metadata": {},
   "source": [
    "## Analyzing Newton's Method"
   ]
  },
  {
   "cell_type": "markdown",
   "id": "77473636",
   "metadata": {},
   "source": [
    "Let $f(x) = x^3 - 2x + 2$. For each value of $z$ in `np.linspace(-2,2,1000)`, apply Newton's method 7 times, and call the result $z_7$. For how many of these 1000 values do we have $-0.001 < f(z_7) < 0.001$?"
   ]
  },
  {
   "cell_type": "code",
   "execution_count": null,
   "id": "6c4b02cc-36c4-4917-84c4-08a9a0450c7b",
   "metadata": {},
   "outputs": [],
   "source": []
  }
 ],
 "metadata": {
  "kernelspec": {
   "display_name": "Python 3 (ipykernel)",
   "language": "python",
   "name": "python3"
  },
  "language_info": {
   "codemirror_mode": {
    "name": "ipython",
    "version": 3
   },
   "file_extension": ".py",
   "mimetype": "text/x-python",
   "name": "python",
   "nbconvert_exporter": "python",
   "pygments_lexer": "ipython3",
   "version": "3.12.7"
  }
 },
 "nbformat": 4,
 "nbformat_minor": 5
}