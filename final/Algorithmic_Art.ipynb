{
 "cells": [
  {
   "cell_type": "markdown",
   "id": "c1a1c5cf-fd4c-4b9e-b2fe-cd4f29fa6b8e",
   "metadata": {},
   "source": [
    "# Final Project Option: Algorithmic Art\n",
    "Algorithmic Art is a wide topic, which encompasses most types of art which can be generated with mathematics and programming."
   ]
  },
  {
   "cell_type": "markdown",
   "id": "74754098-e46c-4564-8e09-794bc1661888",
   "metadata": {},
   "source": [
    "## Grading Criteria\n",
    "The grading for this topic is more open-ended.  If you decide to work on algorithmic art, either generate lots of examples within a single topic, or try out lots of examples from many topics. Be sure to describe the algorithms used and the concepts behind them.\n",
    "\n",
    "Your grade will depend on the following categories:\n",
    "\n",
    "- __Background information:__ Do you explain the steps of your code? What is the mathematics behind the images you create? What history is there to your topic, if any.\n",
    "- __Modifications:__ You will likely use code from other sites or resources to generate your first pictures. In what ways can you change this code? Which changes lead to new and interesting art?\n",
    "    - For instance, if you have code that gives you a Mandlebrot set, how can we modify this code to see other parts of the Mandebrot set? Can we change the equations to give us an entirely different plot, not a Mandlebrot set, but something similar? Can you give examples, and show the outputs of these examples?\n",
    "- __Techniques:__ Does your code incorporate other techniques from class? For example, if you use Turtle Graphics for a topic, a few lines of code can give an octagon. But if you use nested loops, can you make lots of iterations of a shape that nest within itself? More complex images with less code repetition (for instance, use a loop to draw an octagon rather than using copy-and-paste 8 times) is encouraged.\n",
    "- __Cite your references!__ Do you specify which parts of the code you changed? Make this clear, it is okay to use references as long as you are up-front about it.\n",
    "\n",
    "If you have any questions about your work so far, please reach out to Professor Smith."
   ]
  },
  {
   "cell_type": "markdown",
   "id": "4f78f0e1-1d1f-4db7-9a3a-ec05c54d39f7",
   "metadata": {},
   "source": [
    "## Examples\n",
    "Some of the examples will have code, some will have mathematics, and others are merely for inspiration."
   ]
  },
  {
   "cell_type": "markdown",
   "id": "e9fb6436-9aaf-4357-8b3c-db30691e3370",
   "metadata": {},
   "source": [
    "### Fractals\n",
    "\n",
    "- Paul Bourke's website has tons of examples: <a href=\"http://paulbourke.net/fractals/\">Fractals, Chaos, Self Similarity</a>\n",
    "- <a href=\"https://beltoforion.de/en/recreational_mathematics/chaos_game.php\">The Chaos Game - Introduction to the world of fractals.</a> The Python code here is capable of much more than the midterm project.\n",
    "- <a href=\"https://web.archive.org/web/20240118024538/https://www.integral-domain.org/lwilliams/Applets/algorithms/cgame.php\">Chaos Game Interactive Applet</a> (to help you workshop different concepts)\n",
    "- <a href=\"https://paulbourke.net/fractals/ifs/\">Paul Bourke's site: IFS (Iterated Function Systems)</a>\n",
    "- <a href=\"https://paulbourke.net/fractals/mandelbrot/\">Paul Bourke's site: Mandelbrot at a Glance.</a>  Mandlebrot Set has many viewpoints. Try graphing multiple viewpoints, and find good spots to magnify in.\n",
    "    - Also, there are many other different looking fractals which have similar code to the Mandelbrot set. Try changing parts of your code. Also, search for \"Burning Ship Fractal\", \"Julia Set\", \"Marek Dragon\" and many others. \n",
    "- <a href=\"http://larryriddle.agnesscott.org/ifs/siertri/boxVariation.htm\">Sierpinski Relatives</a>\n",
    "- Since these examples are mostly 2-dim, another thing you can try is to create a 3-dim version of a fractal."
   ]
  },
  {
   "cell_type": "markdown",
   "id": "d799c6c1-9bd9-4e7b-addf-788945863f1c",
   "metadata": {},
   "source": [
    "### Image Processing\n",
    "- Effects in photo editors (such as Photoshop) can be recreated in Python, often with very little code Research multiple different photoshop-like effects, and implement them using mathematics. You will have to import images into Python as well. Examples:\n",
    "    - <a href=\"https://en.wikipedia.org/wiki/Blend_modes\">Blend Modes</a>\n",
    "    - Invert Colors If you know the (Red, Blue, Green) of each pixel (each between 0 and 255), You can invert colors by replacing these values with (255 - Red, 255 - Blue, 255 - Green).\n",
    "    - <a href=\"https://en.wikipedia.org/wiki/Gaussian_blur\">Gaussian Blur</a>\n",
    "    - Generally, if you search something like \"Mathematics of Instagram filters\" or \"Instagram filters in python code\", you can find the types of results you want."
   ]
  },
  {
   "cell_type": "markdown",
   "id": "d02698e9-2162-4a02-9501-c239515bff1e",
   "metadata": {},
   "source": [
    "### Turtle Graphics\n",
    "<a href=\"https://docs.python.org/3/library/turtle.html\">Turtle Graphics</a> implement the instructions here to create many types of pictures. Your first images can use simple instructions, but more complex images can be made by combining turtles with techniques from class (loops, random numbers, recursion, etc.)\n",
    "\n",
    "Examples of what can be made with turtle graphics, from simple to complex:\n",
    "- <a href=\"https://discuss.cloudxlab.com/t/fun-with-python-turtle-graphics-module-share-your-turtle-art/4096\">Fun with Python Turtle Graphics Module</a>\n",
    "- <a href=\"https://en.wikipedia.org/wiki/Spirograph\">Spirographs</a>, search for ways to create these in Python.\n",
    "- <a href=\"https://paulbourke.net/fractals/lsys/\">Paul Bourke's site: L-Systems (Lindenmayer Systems)</a>\n",
    "     - This link lets you interact with L-Systems: <a href=\"https://www.kevs3d.co.uk/dev/lsystems/\">L-Systems Turtle Graphics Renderer</a>\n",
    "- <a href=\"https://github.com/hrshtv/Sketchy-Turtle\">A python turtle that sketches (almost) any image given to it, while mimicking the \"human way\" of sketching</a>"
   ]
  },
  {
   "cell_type": "markdown",
   "id": "422cf1ca-f398-4dc2-b94d-97f1aff87157",
   "metadata": {},
   "source": [
    "### Other Algorithmic Art topics. Many other topics exist beyond these!\n",
    "- <a href=\"https://www.geeksforgeeks.org/converting-image-ascii-image-python/\">Convert an image into ASCII Art</a>\n",
    "- <a href=\"https://github.com/kevinjycui/DesmosBezierRenderer\">Convert an image into Desmos graphs using Python</a>\n",
    "- Droste Effect:<a href=\"https://inventwithpython.com/recursion/chapter14.html\">Create an infinitely repeating image using Python</a>\n",
    "    - <a href=\"https://www.josleys.com/article_show.php?id=82\">The math behind the Droste Effect</a>"
   ]
  }
 ],
 "metadata": {
  "kernelspec": {
   "display_name": "Python 3 (ipykernel)",
   "language": "python",
   "name": "python3"
  },
  "language_info": {
   "codemirror_mode": {
    "name": "ipython",
    "version": 3
   },
   "file_extension": ".py",
   "mimetype": "text/x-python",
   "name": "python",
   "nbconvert_exporter": "python",
   "pygments_lexer": "ipython3",
   "version": "3.12.7"
  }
 },
 "nbformat": 4,
 "nbformat_minor": 5
}
